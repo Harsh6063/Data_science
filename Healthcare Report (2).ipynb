{
 "cells": [
  {
   "cell_type": "markdown",
   "id": "21fb12ad-a5a3-4d10-bcfd-dc31ae109fde",
   "metadata": {},
   "source": [
    "#### Health care🧑‍⚕️, or healthcare, is the improvement of health via the prevention, diagnosis, treatment, amelioration or cure of disease, illness, injury, and other physical and mental impairments in people. Health care is delivered by health professionals and allied health fields. Medicine, dentistry, pharmacy,midwifery, nursing, optometry, audiology, psychology, occupational therapy, physical therapy, athletic training, and other health professions all constitute health care. The term includes work done in providing primary care, secondary care, and tertiary care, as well as in public health."
   ]
  },
  {
   "cell_type": "markdown",
   "id": "0a620715-e97c-46fa-82f5-dc4e5bccc6a4",
   "metadata": {},
   "source": [
    "## Importing the necessary libraries:"
   ]
  },
  {
   "cell_type": "code",
   "execution_count": 2,
   "id": "204d5ff3-0c20-462a-84a8-225f3e7a8e50",
   "metadata": {},
   "outputs": [],
   "source": [
    "import numpy as np\n",
    "import pandas as pd\n",
    "import matplotlib.pyplot as plt\n",
    "import seaborn as sns"
   ]
  },
  {
   "cell_type": "markdown",
   "id": "f14b67a8-0c35-43d0-ba8f-68f414120640",
   "metadata": {},
   "source": [
    "## Let's First Import Our Health care Report Datset"
   ]
  },
  {
   "cell_type": "code",
   "execution_count": 3,
   "id": "fe8c0081-f462-4cd2-9cdf-51a08cde2b8b",
   "metadata": {},
   "outputs": [],
   "source": [
    "healthcare_dataset=pd.read_csv(\"healthcare_dataset.csv\")"
   ]
  },
  {
   "cell_type": "code",
   "execution_count": 4,
   "id": "17009fea-220b-41e9-8049-2f610edace2e",
   "metadata": {},
   "outputs": [
    {
     "data": {
      "text/plain": [
       "(10000, 15)"
      ]
     },
     "execution_count": 4,
     "metadata": {},
     "output_type": "execute_result"
    }
   ],
   "source": [
    "#Size of The Dataset\n",
    "healthcare_dataset.shape"
   ]
  },
  {
   "cell_type": "markdown",
   "id": "12190193-0f21-4c78-bac9-8332dddf9035",
   "metadata": {},
   "source": [
    "#### It has 10000 Rows and 15 columns"
   ]
  },
  {
   "cell_type": "code",
   "execution_count": 5,
   "id": "5908bc71-0da0-4d58-b309-7e8ea4b0c332",
   "metadata": {},
   "outputs": [
    {
     "data": {
      "text/plain": [
       "Index(['Name', 'Age', 'Gender', 'Blood Type', 'Medical Condition',\n",
       "       'Date of Admission', 'Doctor', 'Hospital', 'Insurance Provider',\n",
       "       'Billing Amount', 'Room Number', 'Admission Type', 'Discharge Date',\n",
       "       'Medication', 'Test Results'],\n",
       "      dtype='object')"
      ]
     },
     "execution_count": 5,
     "metadata": {},
     "output_type": "execute_result"
    }
   ],
   "source": [
    "#Displaying The Columns Names\n",
    "healthcare_dataset.columns"
   ]
  },
  {
   "cell_type": "code",
   "execution_count": 6,
   "id": "2ef4db02-8121-4f4b-a77e-8a9bd9ec4653",
   "metadata": {},
   "outputs": [
    {
     "name": "stdout",
     "output_type": "stream",
     "text": [
      "<class 'pandas.core.frame.DataFrame'>\n",
      "RangeIndex: 10000 entries, 0 to 9999\n",
      "Data columns (total 15 columns):\n",
      " #   Column              Non-Null Count  Dtype  \n",
      "---  ------              --------------  -----  \n",
      " 0   Name                10000 non-null  object \n",
      " 1   Age                 10000 non-null  int64  \n",
      " 2   Gender              10000 non-null  object \n",
      " 3   Blood Type          10000 non-null  object \n",
      " 4   Medical Condition   10000 non-null  object \n",
      " 5   Date of Admission   10000 non-null  object \n",
      " 6   Doctor              10000 non-null  object \n",
      " 7   Hospital            10000 non-null  object \n",
      " 8   Insurance Provider  10000 non-null  object \n",
      " 9   Billing Amount      10000 non-null  float64\n",
      " 10  Room Number         10000 non-null  int64  \n",
      " 11  Admission Type      10000 non-null  object \n",
      " 12  Discharge Date      10000 non-null  object \n",
      " 13  Medication          10000 non-null  object \n",
      " 14  Test Results        10000 non-null  object \n",
      "dtypes: float64(1), int64(2), object(12)\n",
      "memory usage: 1.1+ MB\n"
     ]
    }
   ],
   "source": [
    "#Checking The DataTypes\n",
    "healthcare_dataset.info()"
   ]
  },
  {
   "cell_type": "markdown",
   "id": "572ace21-4892-4509-92b3-dc37589cbdb6",
   "metadata": {},
   "source": [
    "#### We can See in the Output Above That All Columns Data Types are Correct Except Date of Admission and Date of Discharge,They Are Object type but should be Date Type So let's Change It.\n"
   ]
  },
  {
   "cell_type": "code",
   "execution_count": 7,
   "id": "82fcf875-ee81-4d5a-bad9-f44533296268",
   "metadata": {},
   "outputs": [
    {
     "data": {
      "text/plain": [
       "Name                          object\n",
       "Age                            int64\n",
       "Gender                        object\n",
       "Blood Type                    object\n",
       "Medical Condition             object\n",
       "Date of Admission     datetime64[ns]\n",
       "Doctor                        object\n",
       "Hospital                      object\n",
       "Insurance Provider            object\n",
       "Billing Amount               float64\n",
       "Room Number                    int64\n",
       "Admission Type                object\n",
       "Discharge Date        datetime64[ns]\n",
       "Medication                    object\n",
       "Test Results                  object\n",
       "dtype: object"
      ]
     },
     "execution_count": 7,
     "metadata": {},
     "output_type": "execute_result"
    }
   ],
   "source": [
    "#Using Date_Time Function Of Pandas Library\n",
    "healthcare_dataset['Date of Admission'] = pd.to_datetime(healthcare_dataset['Date of Admission'])\n",
    "healthcare_dataset['Discharge Date'] = pd.to_datetime(healthcare_dataset['Discharge Date'])\n",
    "healthcare_dataset.dtypes"
   ]
  },
  {
   "cell_type": "code",
   "execution_count": 8,
   "id": "348bcaa9-097e-4fdb-95e4-7237678a6391",
   "metadata": {},
   "outputs": [
    {
     "data": {
      "text/plain": [
       "Name                  0\n",
       "Age                   0\n",
       "Gender                0\n",
       "Blood Type            0\n",
       "Medical Condition     0\n",
       "Date of Admission     0\n",
       "Doctor                0\n",
       "Hospital              0\n",
       "Insurance Provider    0\n",
       "Billing Amount        0\n",
       "Room Number           0\n",
       "Admission Type        0\n",
       "Discharge Date        0\n",
       "Medication            0\n",
       "Test Results          0\n",
       "dtype: int64"
      ]
     },
     "execution_count": 8,
     "metadata": {},
     "output_type": "execute_result"
    }
   ],
   "source": [
    "#Checking The Null_Values\n",
    "healthcare_dataset.isnull().sum()"
   ]
  },
  {
   "cell_type": "code",
   "execution_count": 9,
   "id": "2daf4a67-5aa0-41e6-8a65-5c3fb415d47c",
   "metadata": {},
   "outputs": [
    {
     "data": {
      "text/plain": [
       "0"
      ]
     },
     "execution_count": 9,
     "metadata": {},
     "output_type": "execute_result"
    }
   ],
   "source": [
    "#Checking Duplicate_Values\n",
    "healthcare_dataset.duplicated().sum()"
   ]
  },
  {
   "cell_type": "markdown",
   "id": "ada9ab80-d3d8-4c98-b918-02f17e729565",
   "metadata": {},
   "source": [
    "##### The Dataset has no Null Values and Duplicates Either Good✌️. "
   ]
  },
  {
   "cell_type": "code",
   "execution_count": 10,
   "id": "0119241c-1a28-414e-9ee2-73068f96bc48",
   "metadata": {},
   "outputs": [
    {
     "data": {
      "text/plain": [
       "array([81, 35, 61, 49, 51, 41, 82, 55, 33, 39, 45, 23, 85, 72, 65, 32, 64,\n",
       "       66, 80, 79, 54, 26, 70, 74, 56, 37, 78, 83, 30, 19, 46, 48, 34, 84,\n",
       "       47, 60, 57, 21, 27, 68, 31, 42, 71, 38, 28, 43, 69, 73, 67, 44, 20,\n",
       "       59, 76, 40, 36, 29, 53, 77, 24, 75, 25, 62, 52, 50, 22, 63, 58, 18],\n",
       "      dtype=int64)"
      ]
     },
     "execution_count": 10,
     "metadata": {},
     "output_type": "execute_result"
    }
   ],
   "source": [
    "#Checking outliers in Age Columns;\n",
    "healthcare_dataset.Age.unique()"
   ]
  },
  {
   "cell_type": "code",
   "execution_count": 11,
   "id": "832120c4-88f1-4708-9ad8-9a81dfd81967",
   "metadata": {},
   "outputs": [
    {
     "data": {
      "text/plain": [
       "<Axes: ylabel='Age'>"
      ]
     },
     "execution_count": 11,
     "metadata": {},
     "output_type": "execute_result"
    },
    {
     "data": {
      "image/png": "[encoded data removed]",
      "text/plain": [
       "<Figure size 640x480 with 1 Axes>"
      ]
     },
     "metadata": {},
     "output_type": "display_data"
    }
   ],
   "source": [
    "#Plotting Box_Plot for Age\n",
    "sns.boxplot(healthcare_dataset.Age)"
   ]
  },
  {
   "cell_type": "markdown",
   "id": "76cde1a1-c268-4148-aa3e-a4c7ffdf9bb9",
   "metadata": {},
   "source": [
    "##### Even after Plotting Box_Plot no Outliers can be seen in the Age Column of The Dataset."
   ]
  },
  {
   "cell_type": "code",
   "execution_count": 12,
   "id": "19d6deca-54e5-4600-bf86-eaacd59bb343",
   "metadata": {},
   "outputs": [
    {
     "data": {
      "text/plain": [
       "array(['O-', 'O+', 'B-', 'AB+', 'A+', 'AB-', 'A-', 'B+'], dtype=object)"
      ]
     },
     "execution_count": 12,
     "metadata": {},
     "output_type": "execute_result"
    }
   ],
   "source": [
    "#Checking The Different Blood_Types\n",
    "healthcare_dataset['Blood Type'].unique()"
   ]
  },
  {
   "cell_type": "markdown",
   "id": "ea437613-cba7-4822-9e74-352a133a1c0b",
   "metadata": {},
   "source": [
    "##### Seven Different Blood Types are Present in The Dataset"
   ]
  },
  {
   "cell_type": "markdown",
   "id": "e9dd0068-e33e-459e-8ffd-7d98937b7172",
   "metadata": {},
   "source": [
    "##### We Can See Room_Number Column in a Dataset is a Numerical-value But Despite it Being Numerical it does not provide anything of use after calculating its statistical Values.So we can Change it to categorical value to avoid it being calcuated for statistical_approach.Eg; we Can't Find any Useful_information after Calculating Average_Room_Number or Max or Min Room Number.We can Also Drop Room value but For Now Let's Change it to Categorical\n"
   ]
  },
  {
   "cell_type": "code",
   "execution_count": 13,
   "id": "07a84eaa-844b-44fd-aec0-ab6abad87ec8",
   "metadata": {},
   "outputs": [],
   "source": [
    "healthcare_dataset['Room Number']=healthcare_dataset['Room Number'].astype(str)"
   ]
  },
  {
   "cell_type": "code",
   "execution_count": 14,
   "id": "b01650d3-1629-4738-8121-dc6edcb471e3",
   "metadata": {},
   "outputs": [
    {
     "data": {
      "text/html": [
       "<div>\n",
       "<style scoped>\n",
       "    .dataframe tbody tr th:only-of-type {\n",
       "        vertical-align: middle;\n",
       "    }\n",
       "\n",
       "    .dataframe tbody tr th {\n",
       "        vertical-align: top;\n",
       "    }\n",
       "\n",
       "    .dataframe thead th {\n",
       "        text-align: right;\n",
       "    }\n",
       "</style>\n",
       "<table border=\"1\" class=\"dataframe\">\n",
       "  <thead>\n",
       "    <tr style=\"text-align: right;\">\n",
       "      <th></th>\n",
       "      <th>Age</th>\n",
       "      <th>Date of Admission</th>\n",
       "      <th>Billing Amount</th>\n",
       "      <th>Discharge Date</th>\n",
       "    </tr>\n",
       "  </thead>\n",
       "  <tbody>\n",
       "    <tr>\n",
       "      <th>count</th>\n",
       "      <td>10000.000000</td>\n",
       "      <td>10000</td>\n",
       "      <td>10000.000000</td>\n",
       "      <td>10000</td>\n",
       "    </tr>\n",
       "    <tr>\n",
       "      <th>mean</th>\n",
       "      <td>51.452200</td>\n",
       "      <td>2021-05-01 21:53:25.439999744</td>\n",
       "      <td>25516.806778</td>\n",
       "      <td>2021-05-17 11:22:24.960000</td>\n",
       "    </tr>\n",
       "    <tr>\n",
       "      <th>min</th>\n",
       "      <td>18.000000</td>\n",
       "      <td>2018-10-30 00:00:00</td>\n",
       "      <td>1000.180837</td>\n",
       "      <td>2018-11-01 00:00:00</td>\n",
       "    </tr>\n",
       "    <tr>\n",
       "      <th>25%</th>\n",
       "      <td>35.000000</td>\n",
       "      <td>2020-02-10 00:00:00</td>\n",
       "      <td>13506.523967</td>\n",
       "      <td>2020-02-23 18:00:00</td>\n",
       "    </tr>\n",
       "    <tr>\n",
       "      <th>50%</th>\n",
       "      <td>52.000000</td>\n",
       "      <td>2021-05-02 00:00:00</td>\n",
       "      <td>25258.112566</td>\n",
       "      <td>2021-05-18 00:00:00</td>\n",
       "    </tr>\n",
       "    <tr>\n",
       "      <th>75%</th>\n",
       "      <td>68.000000</td>\n",
       "      <td>2022-07-23 06:00:00</td>\n",
       "      <td>37733.913727</td>\n",
       "      <td>2022-08-07 00:00:00</td>\n",
       "    </tr>\n",
       "    <tr>\n",
       "      <th>max</th>\n",
       "      <td>85.000000</td>\n",
       "      <td>2023-10-30 00:00:00</td>\n",
       "      <td>49995.902283</td>\n",
       "      <td>2023-11-27 00:00:00</td>\n",
       "    </tr>\n",
       "    <tr>\n",
       "      <th>std</th>\n",
       "      <td>19.588974</td>\n",
       "      <td>NaN</td>\n",
       "      <td>14067.292709</td>\n",
       "      <td>NaN</td>\n",
       "    </tr>\n",
       "  </tbody>\n",
       "</table>\n",
       "</div>"
      ],
      "text/plain": [
       "                Age              Date of Admission  Billing Amount  \\\n",
       "count  10000.000000                          10000    10000.000000   \n",
       "mean      51.452200  2021-05-01 21:53:25.439999744    25516.806778   \n",
       "min       18.000000            2018-10-30 00:00:00     1000.180837   \n",
       "25%       35.000000            2020-02-10 00:00:00    13506.523967   \n",
       "50%       52.000000            2021-05-02 00:00:00    25258.112566   \n",
       "75%       68.000000            2022-07-23 06:00:00    37733.913727   \n",
       "max       85.000000            2023-10-30 00:00:00    49995.902283   \n",
       "std       19.588974                            NaN    14067.292709   \n",
       "\n",
       "                   Discharge Date  \n",
       "count                       10000  \n",
       "mean   2021-05-17 11:22:24.960000  \n",
       "min           2018-11-01 00:00:00  \n",
       "25%           2020-02-23 18:00:00  \n",
       "50%           2021-05-18 00:00:00  \n",
       "75%           2022-08-07 00:00:00  \n",
       "max           2023-11-27 00:00:00  \n",
       "std                           NaN  "
      ]
     },
     "execution_count": 14,
     "metadata": {},
     "output_type": "execute_result"
    }
   ],
   "source": [
    "#Let's Find Some Statistical_Summery of the Datset\n",
    "healthcare_dataset.describe()"
   ]
  },
  {
   "cell_type": "markdown",
   "id": "5d5cdb74-032c-4b26-bebd-273affc55d62",
   "metadata": {},
   "source": [
    "#### We Can See The Billing Amount is Very Noisy Due to The Many Numers after Decimal Lets Fix It"
   ]
  },
  {
   "cell_type": "code",
   "execution_count": 15,
   "id": "f20a3d70-96bd-4c74-86aa-f1e4d6e41b60",
   "metadata": {},
   "outputs": [
    {
     "data": {
      "text/html": [
       "<div>\n",
       "<style scoped>\n",
       "    .dataframe tbody tr th:only-of-type {\n",
       "        vertical-align: middle;\n",
       "    }\n",
       "\n",
       "    .dataframe tbody tr th {\n",
       "        vertical-align: top;\n",
       "    }\n",
       "\n",
       "    .dataframe thead th {\n",
       "        text-align: right;\n",
       "    }\n",
       "</style>\n",
       "<table border=\"1\" class=\"dataframe\">\n",
       "  <thead>\n",
       "    <tr style=\"text-align: right;\">\n",
       "      <th></th>\n",
       "      <th>Name</th>\n",
       "      <th>Age</th>\n",
       "      <th>Gender</th>\n",
       "      <th>Blood Type</th>\n",
       "      <th>Medical Condition</th>\n",
       "      <th>Date of Admission</th>\n",
       "      <th>Doctor</th>\n",
       "      <th>Hospital</th>\n",
       "      <th>Insurance Provider</th>\n",
       "      <th>Billing Amount</th>\n",
       "      <th>Room Number</th>\n",
       "      <th>Admission Type</th>\n",
       "      <th>Discharge Date</th>\n",
       "      <th>Medication</th>\n",
       "      <th>Test Results</th>\n",
       "    </tr>\n",
       "  </thead>\n",
       "  <tbody>\n",
       "    <tr>\n",
       "      <th>1254</th>\n",
       "      <td>Kathleen Reyes</td>\n",
       "      <td>77</td>\n",
       "      <td>Male</td>\n",
       "      <td>A+</td>\n",
       "      <td>Diabetes</td>\n",
       "      <td>2019-07-14</td>\n",
       "      <td>Justin Powell</td>\n",
       "      <td>Smith-Rhodes</td>\n",
       "      <td>UnitedHealthcare</td>\n",
       "      <td>39452.71</td>\n",
       "      <td>208</td>\n",
       "      <td>Urgent</td>\n",
       "      <td>2019-07-21</td>\n",
       "      <td>Aspirin</td>\n",
       "      <td>Normal</td>\n",
       "    </tr>\n",
       "    <tr>\n",
       "      <th>7859</th>\n",
       "      <td>Samantha Costa</td>\n",
       "      <td>35</td>\n",
       "      <td>Female</td>\n",
       "      <td>A-</td>\n",
       "      <td>Obesity</td>\n",
       "      <td>2018-11-24</td>\n",
       "      <td>Charles Fisher DDS</td>\n",
       "      <td>Wyatt-Chase</td>\n",
       "      <td>Cigna</td>\n",
       "      <td>15407.96</td>\n",
       "      <td>122</td>\n",
       "      <td>Urgent</td>\n",
       "      <td>2018-12-16</td>\n",
       "      <td>Lipitor</td>\n",
       "      <td>Inconclusive</td>\n",
       "    </tr>\n",
       "    <tr>\n",
       "      <th>1458</th>\n",
       "      <td>Tiffany Harper</td>\n",
       "      <td>77</td>\n",
       "      <td>Female</td>\n",
       "      <td>A-</td>\n",
       "      <td>Hypertension</td>\n",
       "      <td>2021-08-11</td>\n",
       "      <td>Terry Williams</td>\n",
       "      <td>Harris-Lynn</td>\n",
       "      <td>Blue Cross</td>\n",
       "      <td>14390.02</td>\n",
       "      <td>494</td>\n",
       "      <td>Urgent</td>\n",
       "      <td>2021-09-06</td>\n",
       "      <td>Paracetamol</td>\n",
       "      <td>Inconclusive</td>\n",
       "    </tr>\n",
       "    <tr>\n",
       "      <th>1039</th>\n",
       "      <td>Elizabeth Fernandez</td>\n",
       "      <td>70</td>\n",
       "      <td>Male</td>\n",
       "      <td>A-</td>\n",
       "      <td>Arthritis</td>\n",
       "      <td>2019-04-07</td>\n",
       "      <td>Nicole Lewis</td>\n",
       "      <td>Mitchell, Khan and Moore</td>\n",
       "      <td>Medicare</td>\n",
       "      <td>9804.14</td>\n",
       "      <td>157</td>\n",
       "      <td>Elective</td>\n",
       "      <td>2019-05-05</td>\n",
       "      <td>Ibuprofen</td>\n",
       "      <td>Normal</td>\n",
       "    </tr>\n",
       "    <tr>\n",
       "      <th>6717</th>\n",
       "      <td>Kristin Bishop</td>\n",
       "      <td>51</td>\n",
       "      <td>Male</td>\n",
       "      <td>O-</td>\n",
       "      <td>Obesity</td>\n",
       "      <td>2022-09-04</td>\n",
       "      <td>Anthony Reed</td>\n",
       "      <td>Reid, Wells and Dixon</td>\n",
       "      <td>Medicare</td>\n",
       "      <td>5530.72</td>\n",
       "      <td>461</td>\n",
       "      <td>Emergency</td>\n",
       "      <td>2022-09-10</td>\n",
       "      <td>Aspirin</td>\n",
       "      <td>Normal</td>\n",
       "    </tr>\n",
       "  </tbody>\n",
       "</table>\n",
       "</div>"
      ],
      "text/plain": [
       "                     Name  Age  Gender Blood Type Medical Condition  \\\n",
       "1254       Kathleen Reyes   77    Male         A+          Diabetes   \n",
       "7859       Samantha Costa   35  Female         A-           Obesity   \n",
       "1458       Tiffany Harper   77  Female         A-      Hypertension   \n",
       "1039  Elizabeth Fernandez   70    Male         A-         Arthritis   \n",
       "6717       Kristin Bishop   51    Male         O-           Obesity   \n",
       "\n",
       "     Date of Admission              Doctor                  Hospital  \\\n",
       "1254        2019-07-14       Justin Powell              Smith-Rhodes   \n",
       "7859        2018-11-24  Charles Fisher DDS               Wyatt-Chase   \n",
       "1458        2021-08-11      Terry Williams               Harris-Lynn   \n",
       "1039        2019-04-07        Nicole Lewis  Mitchell, Khan and Moore   \n",
       "6717        2022-09-04        Anthony Reed     Reid, Wells and Dixon   \n",
       "\n",
       "     Insurance Provider  Billing Amount Room Number Admission Type  \\\n",
       "1254   UnitedHealthcare        39452.71         208         Urgent   \n",
       "7859              Cigna        15407.96         122         Urgent   \n",
       "1458         Blue Cross        14390.02         494         Urgent   \n",
       "1039           Medicare         9804.14         157       Elective   \n",
       "6717           Medicare         5530.72         461      Emergency   \n",
       "\n",
       "     Discharge Date   Medication  Test Results  \n",
       "1254     2019-07-21      Aspirin        Normal  \n",
       "7859     2018-12-16      Lipitor  Inconclusive  \n",
       "1458     2021-09-06  Paracetamol  Inconclusive  \n",
       "1039     2019-05-05    Ibuprofen        Normal  \n",
       "6717     2022-09-10      Aspirin        Normal  "
      ]
     },
     "execution_count": 15,
     "metadata": {},
     "output_type": "execute_result"
    }
   ],
   "source": [
    "healthcare_dataset['Billing Amount']=round(healthcare_dataset['Billing Amount'],2)\n",
    "healthcare_dataset.sample(5)"
   ]
  },
  {
   "cell_type": "code",
   "execution_count": 16,
   "id": "deeb2f37-05c0-4ff4-bdff-bece957e6eb9",
   "metadata": {},
   "outputs": [
    {
     "data": {
      "image/png": "[encoded data removed]",
      "text/plain": [
       "<Figure size 640x480 with 1 Axes>"
      ]
     },
     "metadata": {},
     "output_type": "display_data"
    }
   ],
   "source": [
    "sns.histplot(healthcare_dataset['Age'], bins=20, kde=True, color='lightgreen', edgecolor='red')\n",
    "plt.xlabel('Age')\n",
    "plt.ylabel('Frequency')\n",
    "plt.title('Age with its Frequency')\n",
    "plt.show()"
   ]
  },
  {
   "cell_type": "markdown",
   "id": "4c6f7452-cad7-4084-9f4b-24b199eb3416",
   "metadata": {},
   "source": [
    "#### The Above Histogram Shows there is no Paticular range with the most Frequecy all ranges have almost equal frequency."
   ]
  },
  {
   "cell_type": "code",
   "execution_count": 17,
   "id": "9123adbf-875b-4ce8-87e6-b962b4a8124a",
   "metadata": {},
   "outputs": [
    {
     "data": {
      "text/plain": [
       "Age\n",
       "59    175\n",
       "78    174\n",
       "31    172\n",
       "20    169\n",
       "35    169\n",
       "     ... \n",
       "34    125\n",
       "47    125\n",
       "85    123\n",
       "22    123\n",
       "45    120\n",
       "Name: count, Length: 68, dtype: int64"
      ]
     },
     "execution_count": 17,
     "metadata": {},
     "output_type": "execute_result"
    }
   ],
   "source": [
    "#Counting Age Values\n",
    "healthcare_dataset.Age.value_counts()"
   ]
  },
  {
   "cell_type": "markdown",
   "id": "187d50f8-cbf5-481c-9753-4571982f0e8e",
   "metadata": {},
   "source": [
    "##### Above value Shows That Most patients are of 59 and 78 Ages Respectively."
   ]
  },
  {
   "cell_type": "code",
   "execution_count": 18,
   "id": "62846fa0-c9e6-4b9e-81be-354dab0eb06b",
   "metadata": {},
   "outputs": [
    {
     "data": {
      "text/plain": [
       "Gender\n",
       "Female    5075\n",
       "Male      4925\n",
       "Name: count, dtype: int64"
      ]
     },
     "execution_count": 18,
     "metadata": {},
     "output_type": "execute_result"
    }
   ],
   "source": [
    "#Counting Gender Values\n",
    "healthcare_dataset.Gender.value_counts()"
   ]
  },
  {
   "cell_type": "code",
   "execution_count": 19,
   "id": "e091b69e-c939-4ada-86b2-326863601ddf",
   "metadata": {},
   "outputs": [
    {
     "data": {
      "image/png": "[encoded data removed]",
      "text/plain": [
       "<Figure size 640x480 with 1 Axes>"
      ]
     },
     "metadata": {},
     "output_type": "display_data"
    }
   ],
   "source": [
    "#Lets make a count plot for that\n",
    "sns.countplot(healthcare_dataset['Gender'],color='lightblue')\n",
    "plt.xlabel('Count')\n",
    "plt.ylabel('Gender')\n",
    "plt.title('Gender Frequency')\n",
    "plt.show()"
   ]
  },
  {
   "cell_type": "markdown",
   "id": "4a96cd51-4fe9-4ae0-b8ea-0426d066ba8c",
   "metadata": {},
   "source": [
    "##### Above Value and Graph Shows That Both Males and Females Have almost Same Number of patients With Females having a slight edge"
   ]
  },
  {
   "cell_type": "code",
   "execution_count": 20,
   "id": "f0838af4-c1d9-491a-82b8-c7d3caf09dea",
   "metadata": {},
   "outputs": [
    {
     "data": {
      "text/plain": [
       "Blood Type\n",
       "AB-    1275\n",
       "AB+    1258\n",
       "B-     1252\n",
       "O+     1248\n",
       "O-     1244\n",
       "B+     1244\n",
       "A+     1241\n",
       "A-     1238\n",
       "Name: count, dtype: int64"
      ]
     },
     "execution_count": 20,
     "metadata": {},
     "output_type": "execute_result"
    }
   ],
   "source": [
    "#Counting Blood Group Values\n",
    "healthcare_dataset['Blood Type'].value_counts()"
   ]
  },
  {
   "cell_type": "code",
   "execution_count": 21,
   "id": "902c4ba6-bd07-44d3-97eb-8f3e74f42424",
   "metadata": {},
   "outputs": [
    {
     "data": {
      "image/png": "[encoded data removed]",
      "text/plain": [
       "<Figure size 640x480 with 1 Axes>"
      ]
     },
     "metadata": {},
     "output_type": "display_data"
    }
   ],
   "source": [
    "sns.countplot(healthcare_dataset['Blood Type'],color='pink')\n",
    "plt.xlabel('Count')\n",
    "plt.ylabel(\"Blood Group \")\n",
    "plt.title(\"Blood Type Frequency\")\n",
    "plt.show()"
   ]
  },
  {
   "cell_type": "markdown",
   "id": "457bdf74-704b-401f-a4f9-fbebea763cb5",
   "metadata": {},
   "source": [
    "##### Above Value Shows That All Blood groups Are Equally Common with AB joint type Having The most Patients:"
   ]
  },
  {
   "cell_type": "code",
   "execution_count": 22,
   "id": "87010a72-adc8-4ec0-92c5-51327b0c9259",
   "metadata": {},
   "outputs": [
    {
     "data": {
      "text/plain": [
       "Medical Condition\n",
       "Asthma          1708\n",
       "Cancer          1703\n",
       "Hypertension    1688\n",
       "Arthritis       1650\n",
       "Obesity         1628\n",
       "Diabetes        1623\n",
       "Name: count, dtype: int64"
      ]
     },
     "execution_count": 22,
     "metadata": {},
     "output_type": "execute_result"
    }
   ],
   "source": [
    "#Checking Which Medical Condition is the most common\n",
    "healthcare_dataset['Medical Condition'].value_counts()"
   ]
  },
  {
   "cell_type": "code",
   "execution_count": 23,
   "id": "bc214538-86db-44f6-a047-4a5b0a963cc7",
   "metadata": {},
   "outputs": [
    {
     "data": {
      "image/png": "[encoded data removed]",
      "text/plain": [
       "<Figure size 640x480 with 1 Axes>"
      ]
     },
     "metadata": {},
     "output_type": "display_data"
    }
   ],
   "source": [
    "sns.countplot(healthcare_dataset['Medical Condition'],color='orange')\n",
    "plt.xlabel('Count')\n",
    "plt.ylabel(\"Medical Condition\")\n",
    "plt.title(\"Most Common Medical Condition\")\n",
    "plt.show()"
   ]
  },
  {
   "cell_type": "markdown",
   "id": "9317425e-0055-4c0f-9a66-1227f93be266",
   "metadata": {},
   "source": [
    "##### The Above graph shows us that Asthma and cancer are the Most Common Medical Conditions:"
   ]
  },
  {
   "cell_type": "code",
   "execution_count": 24,
   "id": "aa4f87ff-f7ed-4d59-8a88-c75a1d11761e",
   "metadata": {},
   "outputs": [
    {
     "data": {
      "text/plain": [
       "Hospital\n",
       "Smith PLC                        19\n",
       "Smith and Sons                   17\n",
       "Smith Ltd                        14\n",
       "Smith Inc                        14\n",
       "Johnson PLC                      13\n",
       "                                 ..\n",
       "Daniel-Benton                     1\n",
       "Franco, Hicks and Anderson        1\n",
       "Berry PLC                         1\n",
       "Martinez, Johnson and Carlson     1\n",
       "Torres, Young and Stewart         1\n",
       "Name: count, Length: 8639, dtype: int64"
      ]
     },
     "execution_count": 24,
     "metadata": {},
     "output_type": "execute_result"
    }
   ],
   "source": [
    "#Most Famous Hospitals\n",
    "Most_Famous_hospitals=healthcare_dataset.Hospital.value_counts()\n",
    "Most_Famous_hospitals"
   ]
  },
  {
   "cell_type": "code",
   "execution_count": 25,
   "id": "ec0fc2ae-d0ed-4c6c-92e6-bf36f6ad88cd",
   "metadata": {},
   "outputs": [
    {
     "data": {
      "image/png": "[encoded data removed]",
      "text/plain": [
       "<Figure size 640x480 with 1 Axes>"
      ]
     },
     "metadata": {},
     "output_type": "display_data"
    }
   ],
   "source": [
    "top_10_hospitals = healthcare_dataset['Hospital'].value_counts().nlargest(10).index\n",
    "sns.countplot(healthcare_dataset.Hospital, order=top_10_hospitals, color=\"purple\")\n",
    "plt.xlabel('Count')\n",
    "plt.ylabel('Name of Hospitals')\n",
    "plt.title('Top 10 Hospitals')\n",
    "plt.show()"
   ]
  },
  {
   "cell_type": "markdown",
   "id": "5de76050-f3e1-4630-851d-4a62304ab725",
   "metadata": {},
   "source": [
    "#### This Shows that 'Smith PLC' is the most Famous Hospital Followed By 'Smith and Sons'"
   ]
  },
  {
   "cell_type": "code",
   "execution_count": 26,
   "id": "478ed0a2-7e83-42f0-a85f-7537a0b1a79a",
   "metadata": {},
   "outputs": [
    {
     "data": {
      "text/plain": [
       "Insurance Provider\n",
       "Cigna               2040\n",
       "Blue Cross          2032\n",
       "Aetna               2025\n",
       "UnitedHealthcare    1978\n",
       "Medicare            1925\n",
       "Name: count, dtype: int64"
      ]
     },
     "execution_count": 26,
     "metadata": {},
     "output_type": "execute_result"
    }
   ],
   "source": [
    "#Counting Insurence Policies Providers\n",
    "healthcare_dataset['Insurance Provider'].value_counts()"
   ]
  },
  {
   "cell_type": "code",
   "execution_count": 27,
   "id": "765db44a-c159-4657-b819-31bdd9f1862c",
   "metadata": {},
   "outputs": [
    {
     "data": {
      "image/png": "[encoded data removed]",
      "text/plain": [
       "<Figure size 640x480 with 1 Axes>"
      ]
     },
     "metadata": {},
     "output_type": "display_data"
    }
   ],
   "source": [
    "sns.countplot(healthcare_dataset['Insurance Provider'],color='green')\n",
    "plt.xlabel('Count')\n",
    "plt.ylabel(\"Insurance Providers\")\n",
    "plt.title(\"Best Insurence Providers\")\n",
    "plt.show()"
   ]
  },
  {
   "cell_type": "markdown",
   "id": "1952530a-027d-4b59-a0fd-6035db2fe394",
   "metadata": {},
   "source": [
    "#### Cigna and Blue cross are the best Selling Insurence Companies"
   ]
  },
  {
   "cell_type": "code",
   "execution_count": 28,
   "id": "376372db-2ac1-4cd3-a960-75636e4afe49",
   "metadata": {},
   "outputs": [
    {
     "data": {
      "text/plain": [
       "Medication\n",
       "Penicillin     2079\n",
       "Lipitor        2015\n",
       "Ibuprofen      1976\n",
       "Aspirin        1968\n",
       "Paracetamol    1962\n",
       "Name: count, dtype: int64"
      ]
     },
     "execution_count": 28,
     "metadata": {},
     "output_type": "execute_result"
    }
   ],
   "source": [
    "#Counting Age Values\n",
    "healthcare_dataset.Medication.value_counts()"
   ]
  },
  {
   "cell_type": "code",
   "execution_count": 29,
   "id": "d94083c5-296e-4a33-8b98-e2dcb5608327",
   "metadata": {},
   "outputs": [
    {
     "data": {
      "image/png": "[encoded data removed]",
      "text/plain": [
       "<Figure size 640x480 with 1 Axes>"
      ]
     },
     "metadata": {},
     "output_type": "display_data"
    }
   ],
   "source": [
    "sns.countplot(healthcare_dataset['Medication'],color='grey')\n",
    "plt.xlabel('Count')\n",
    "plt.ylabel(\"Medication\")\n",
    "plt.title(\"Most Used Medication\")\n",
    "plt.show()"
   ]
  },
  {
   "cell_type": "markdown",
   "id": "de7e07ba-bebc-482f-935b-43faca147fec",
   "metadata": {},
   "source": [
    "#### The above graph Shows That Penicillin followed by lipitor are the most common Medication given.\n"
   ]
  },
  {
   "cell_type": "code",
   "execution_count": 30,
   "id": "fc679f70-0a9d-4472-9356-ec84826e5cf4",
   "metadata": {},
   "outputs": [
    {
     "data": {
      "text/plain": [
       "Gender\n",
       "Female    51.608473\n",
       "Male      51.291168\n",
       "Name: Age, dtype: float64"
      ]
     },
     "execution_count": 30,
     "metadata": {},
     "output_type": "execute_result"
    }
   ],
   "source": [
    "#let's Find The Average Age by Gender of Patients\n",
    "average_age_by_gender = healthcare_dataset.groupby('Gender')['Age'].mean()\n",
    "average_age_by_gender"
   ]
  },
  {
   "cell_type": "code",
   "execution_count": 31,
   "id": "559055a4-57ad-4fe1-bd4d-21a32501f5f8",
   "metadata": {},
   "outputs": [
    {
     "data": {
      "text/plain": [
       "Gender\n",
       "Female    AB-\n",
       "Male       O-\n",
       "Name: Blood Type, dtype: object"
      ]
     },
     "execution_count": 31,
     "metadata": {},
     "output_type": "execute_result"
    }
   ],
   "source": [
    "#Finding The Most Common Blood Type By Gender\n",
    "BloodType_by_gender = healthcare_dataset.groupby('Gender')['Blood Type'].agg(lambda x: x.mode())\n",
    "BloodType_by_gender"
   ]
  },
  {
   "cell_type": "markdown",
   "id": "5cb4e5d5-8629-44db-8d35-139cafa23c43",
   "metadata": {},
   "source": [
    "#### We find Most common Blood Type Among Females is AB- and Males is O-"
   ]
  },
  {
   "cell_type": "code",
   "execution_count": 32,
   "id": "2735c6e5-be09-4741-b996-48a3202ae722",
   "metadata": {},
   "outputs": [
    {
     "data": {
      "text/plain": [
       "Gender\n",
       "Female          Cancer\n",
       "Male      Hypertension\n",
       "Name: Medical Condition, dtype: object"
      ]
     },
     "execution_count": 32,
     "metadata": {},
     "output_type": "execute_result"
    }
   ],
   "source": [
    "#Finding The Most Common Disease Type By Gender\n",
    "Medical_Condition_by_gender = healthcare_dataset.groupby('Gender')['Medical Condition'].agg(lambda x: x.mode())\n",
    "Medical_Condition_by_gender"
   ]
  },
  {
   "cell_type": "markdown",
   "id": "23886b0c-451b-4b3a-94ab-182b1332300c",
   "metadata": {},
   "source": [
    "#### We find Most common Medical Condition Among Females is Cancer and Males is Hypertension"
   ]
  },
  {
   "cell_type": "code",
   "execution_count": 33,
   "id": "f66832c2-8f01-4de0-a302-89ca9334786f",
   "metadata": {},
   "outputs": [
    {
     "data": {
      "text/plain": [
       "Gender\n",
       "Female       Urgent\n",
       "Male      Emergency\n",
       "Name: Admission Type, dtype: object"
      ]
     },
     "execution_count": 33,
     "metadata": {},
     "output_type": "execute_result"
    }
   ],
   "source": [
    "#Finding The Most Common Admisssion Type By Gender\n",
    "Medical_Condition_by_admission_type = healthcare_dataset.groupby('Gender')['Admission Type'].agg(lambda x: x.mode())\n",
    "Medical_Condition_by_admission_type"
   ]
  },
  {
   "cell_type": "markdown",
   "id": "ce8490bb-ede5-4df4-b932-772acfd243ac",
   "metadata": {},
   "source": [
    "#### We find Most common Admission Type Among Females is Urgent and Males is Emergency"
   ]
  },
  {
   "cell_type": "code",
   "execution_count": 34,
   "id": "c0d30795-a46b-4513-a21b-2d9280760289",
   "metadata": {},
   "outputs": [
    {
     "data": {
      "text/html": [
       "<div>\n",
       "<style scoped>\n",
       "    .dataframe tbody tr th:only-of-type {\n",
       "        vertical-align: middle;\n",
       "    }\n",
       "\n",
       "    .dataframe tbody tr th {\n",
       "        vertical-align: top;\n",
       "    }\n",
       "\n",
       "    .dataframe thead th {\n",
       "        text-align: right;\n",
       "    }\n",
       "</style>\n",
       "<table border=\"1\" class=\"dataframe\">\n",
       "  <thead>\n",
       "    <tr style=\"text-align: right;\">\n",
       "      <th></th>\n",
       "      <th>Name</th>\n",
       "      <th>Age</th>\n",
       "      <th>Gender</th>\n",
       "      <th>Blood Type</th>\n",
       "      <th>Medical Condition</th>\n",
       "      <th>Date of Admission</th>\n",
       "      <th>Doctor</th>\n",
       "      <th>Hospital</th>\n",
       "      <th>Insurance Provider</th>\n",
       "      <th>Billing Amount</th>\n",
       "      <th>Room Number</th>\n",
       "      <th>Admission Type</th>\n",
       "      <th>Discharge Date</th>\n",
       "      <th>Medication</th>\n",
       "      <th>Test Results</th>\n",
       "    </tr>\n",
       "  </thead>\n",
       "  <tbody>\n",
       "    <tr>\n",
       "      <th>7219</th>\n",
       "      <td>Mark Edwards</td>\n",
       "      <td>20</td>\n",
       "      <td>Female</td>\n",
       "      <td>O+</td>\n",
       "      <td>Cancer</td>\n",
       "      <td>2019-09-15</td>\n",
       "      <td>Joel Johnson</td>\n",
       "      <td>Smith, Walker and Johnson</td>\n",
       "      <td>Blue Cross</td>\n",
       "      <td>20614.66</td>\n",
       "      <td>449</td>\n",
       "      <td>Emergency</td>\n",
       "      <td>2019-09-19</td>\n",
       "      <td>Paracetamol</td>\n",
       "      <td>Abnormal</td>\n",
       "    </tr>\n",
       "    <tr>\n",
       "      <th>9930</th>\n",
       "      <td>Earl Christensen</td>\n",
       "      <td>71</td>\n",
       "      <td>Female</td>\n",
       "      <td>A+</td>\n",
       "      <td>Obesity</td>\n",
       "      <td>2022-11-25</td>\n",
       "      <td>Corey Williams</td>\n",
       "      <td>Ray-Kane</td>\n",
       "      <td>UnitedHealthcare</td>\n",
       "      <td>24646.93</td>\n",
       "      <td>386</td>\n",
       "      <td>Emergency</td>\n",
       "      <td>2022-12-21</td>\n",
       "      <td>Aspirin</td>\n",
       "      <td>Inconclusive</td>\n",
       "    </tr>\n",
       "    <tr>\n",
       "      <th>6859</th>\n",
       "      <td>Kimberly Stephens</td>\n",
       "      <td>35</td>\n",
       "      <td>Female</td>\n",
       "      <td>A+</td>\n",
       "      <td>Hypertension</td>\n",
       "      <td>2022-05-10</td>\n",
       "      <td>Alexandra Miller</td>\n",
       "      <td>Richards-Thompson</td>\n",
       "      <td>Aetna</td>\n",
       "      <td>8473.01</td>\n",
       "      <td>179</td>\n",
       "      <td>Urgent</td>\n",
       "      <td>2022-05-27</td>\n",
       "      <td>Paracetamol</td>\n",
       "      <td>Normal</td>\n",
       "    </tr>\n",
       "    <tr>\n",
       "      <th>7610</th>\n",
       "      <td>Brittany Haynes</td>\n",
       "      <td>20</td>\n",
       "      <td>Female</td>\n",
       "      <td>B+</td>\n",
       "      <td>Cancer</td>\n",
       "      <td>2023-08-21</td>\n",
       "      <td>David Jackson</td>\n",
       "      <td>Torres, Schmidt and Ortiz</td>\n",
       "      <td>Aetna</td>\n",
       "      <td>5590.40</td>\n",
       "      <td>181</td>\n",
       "      <td>Elective</td>\n",
       "      <td>2023-09-03</td>\n",
       "      <td>Aspirin</td>\n",
       "      <td>Normal</td>\n",
       "    </tr>\n",
       "    <tr>\n",
       "      <th>4576</th>\n",
       "      <td>Briana Miller</td>\n",
       "      <td>36</td>\n",
       "      <td>Male</td>\n",
       "      <td>O+</td>\n",
       "      <td>Hypertension</td>\n",
       "      <td>2022-08-21</td>\n",
       "      <td>Kristina Henry</td>\n",
       "      <td>Butler, Trujillo and Smith</td>\n",
       "      <td>Blue Cross</td>\n",
       "      <td>6467.66</td>\n",
       "      <td>223</td>\n",
       "      <td>Emergency</td>\n",
       "      <td>2022-09-04</td>\n",
       "      <td>Lipitor</td>\n",
       "      <td>Inconclusive</td>\n",
       "    </tr>\n",
       "  </tbody>\n",
       "</table>\n",
       "</div>"
      ],
      "text/plain": [
       "                   Name  Age  Gender Blood Type Medical Condition  \\\n",
       "7219       Mark Edwards   20  Female         O+            Cancer   \n",
       "9930   Earl Christensen   71  Female         A+           Obesity   \n",
       "6859  Kimberly Stephens   35  Female         A+      Hypertension   \n",
       "7610    Brittany Haynes   20  Female         B+            Cancer   \n",
       "4576      Briana Miller   36    Male         O+      Hypertension   \n",
       "\n",
       "     Date of Admission            Doctor                    Hospital  \\\n",
       "7219        2019-09-15      Joel Johnson   Smith, Walker and Johnson   \n",
       "9930        2022-11-25    Corey Williams                    Ray-Kane   \n",
       "6859        2022-05-10  Alexandra Miller           Richards-Thompson   \n",
       "7610        2023-08-21     David Jackson   Torres, Schmidt and Ortiz   \n",
       "4576        2022-08-21    Kristina Henry  Butler, Trujillo and Smith   \n",
       "\n",
       "     Insurance Provider  Billing Amount Room Number Admission Type  \\\n",
       "7219         Blue Cross        20614.66         449      Emergency   \n",
       "9930   UnitedHealthcare        24646.93         386      Emergency   \n",
       "6859              Aetna         8473.01         179         Urgent   \n",
       "7610              Aetna         5590.40         181       Elective   \n",
       "4576         Blue Cross         6467.66         223      Emergency   \n",
       "\n",
       "     Discharge Date   Medication  Test Results  \n",
       "7219     2019-09-19  Paracetamol      Abnormal  \n",
       "9930     2022-12-21      Aspirin  Inconclusive  \n",
       "6859     2022-05-27  Paracetamol        Normal  \n",
       "7610     2023-09-03      Aspirin        Normal  \n",
       "4576     2022-09-04      Lipitor  Inconclusive  "
      ]
     },
     "execution_count": 34,
     "metadata": {},
     "output_type": "execute_result"
    }
   ],
   "source": [
    " healthcare_dataset.sample(5)"
   ]
  },
  {
   "cell_type": "code",
   "execution_count": 35,
   "id": "2128e3fb-bab6-46a2-a20b-695d0e0b67dc",
   "metadata": {},
   "outputs": [
    {
     "data": {
      "text/plain": [
       "Hospital\n",
       "Abbott Inc                                     Arthritis\n",
       "Abbott LLC                     [Arthritis, Hypertension]\n",
       "Abbott PLC                                     Arthritis\n",
       "Abbott, Curry and Moore                           Asthma\n",
       "Abbott-Jordan                               Hypertension\n",
       "                                         ...            \n",
       "Zimmerman, Salinas and Hill                       Cancer\n",
       "Zuniga Ltd                                        Asthma\n",
       "Zuniga, Taylor and Scott                          Asthma\n",
       "Zuniga-Chandler                             Hypertension\n",
       "Zuniga-Johnson                                   Obesity\n",
       "Name: Medical Condition, Length: 8639, dtype: object"
      ]
     },
     "execution_count": 35,
     "metadata": {},
     "output_type": "execute_result"
    }
   ],
   "source": [
    "#Finding specialization of the all Hospitals\n",
    "Medical_Condition_by_hospital = healthcare_dataset.groupby('Hospital')['Medical Condition'].agg(lambda x: x.mode())\n",
    "Medical_Condition_by_hospital"
   ]
  },
  {
   "cell_type": "code",
   "execution_count": 36,
   "id": "e06a6c15-386d-4e30-ad42-3226c068a7e1",
   "metadata": {},
   "outputs": [
    {
     "data": {
      "text/html": [
       "<div>\n",
       "<style scoped>\n",
       "    .dataframe tbody tr th:only-of-type {\n",
       "        vertical-align: middle;\n",
       "    }\n",
       "\n",
       "    .dataframe tbody tr th {\n",
       "        vertical-align: top;\n",
       "    }\n",
       "\n",
       "    .dataframe thead th {\n",
       "        text-align: right;\n",
       "    }\n",
       "</style>\n",
       "<table border=\"1\" class=\"dataframe\">\n",
       "  <thead>\n",
       "    <tr style=\"text-align: right;\">\n",
       "      <th></th>\n",
       "      <th>Name</th>\n",
       "      <th>Age</th>\n",
       "      <th>Gender</th>\n",
       "      <th>Blood Type</th>\n",
       "      <th>Medical Condition</th>\n",
       "      <th>Date of Admission</th>\n",
       "      <th>Doctor</th>\n",
       "      <th>Hospital</th>\n",
       "      <th>Insurance Provider</th>\n",
       "      <th>Billing Amount</th>\n",
       "      <th>Room Number</th>\n",
       "      <th>Admission Type</th>\n",
       "      <th>Discharge Date</th>\n",
       "      <th>Medication</th>\n",
       "      <th>Test Results</th>\n",
       "      <th>Length_of_Stay</th>\n",
       "    </tr>\n",
       "  </thead>\n",
       "  <tbody>\n",
       "    <tr>\n",
       "      <th>9022</th>\n",
       "      <td>Bobby Keller</td>\n",
       "      <td>84</td>\n",
       "      <td>Male</td>\n",
       "      <td>AB-</td>\n",
       "      <td>Hypertension</td>\n",
       "      <td>2019-05-31</td>\n",
       "      <td>Mike Walker</td>\n",
       "      <td>Patterson-Johnson</td>\n",
       "      <td>Cigna</td>\n",
       "      <td>5402.83</td>\n",
       "      <td>410</td>\n",
       "      <td>Elective</td>\n",
       "      <td>2019-06-09</td>\n",
       "      <td>Penicillin</td>\n",
       "      <td>Abnormal</td>\n",
       "      <td>9</td>\n",
       "    </tr>\n",
       "    <tr>\n",
       "      <th>138</th>\n",
       "      <td>Patrick Bates</td>\n",
       "      <td>32</td>\n",
       "      <td>Male</td>\n",
       "      <td>B+</td>\n",
       "      <td>Cancer</td>\n",
       "      <td>2023-07-09</td>\n",
       "      <td>Jillian Marshall</td>\n",
       "      <td>Lara, Ward and Brown</td>\n",
       "      <td>Blue Cross</td>\n",
       "      <td>44535.25</td>\n",
       "      <td>413</td>\n",
       "      <td>Emergency</td>\n",
       "      <td>2023-07-17</td>\n",
       "      <td>Penicillin</td>\n",
       "      <td>Normal</td>\n",
       "      <td>8</td>\n",
       "    </tr>\n",
       "    <tr>\n",
       "      <th>7270</th>\n",
       "      <td>Kathleen Evans</td>\n",
       "      <td>75</td>\n",
       "      <td>Male</td>\n",
       "      <td>B-</td>\n",
       "      <td>Hypertension</td>\n",
       "      <td>2022-02-08</td>\n",
       "      <td>Kathleen Day</td>\n",
       "      <td>Hull and Sons</td>\n",
       "      <td>Cigna</td>\n",
       "      <td>1614.54</td>\n",
       "      <td>387</td>\n",
       "      <td>Elective</td>\n",
       "      <td>2022-02-21</td>\n",
       "      <td>Ibuprofen</td>\n",
       "      <td>Normal</td>\n",
       "      <td>13</td>\n",
       "    </tr>\n",
       "    <tr>\n",
       "      <th>1595</th>\n",
       "      <td>Sylvia Oneal</td>\n",
       "      <td>36</td>\n",
       "      <td>Female</td>\n",
       "      <td>A-</td>\n",
       "      <td>Arthritis</td>\n",
       "      <td>2020-01-07</td>\n",
       "      <td>Jay Lawson</td>\n",
       "      <td>Savage-Sanchez</td>\n",
       "      <td>UnitedHealthcare</td>\n",
       "      <td>4661.98</td>\n",
       "      <td>489</td>\n",
       "      <td>Elective</td>\n",
       "      <td>2020-01-14</td>\n",
       "      <td>Paracetamol</td>\n",
       "      <td>Abnormal</td>\n",
       "      <td>7</td>\n",
       "    </tr>\n",
       "    <tr>\n",
       "      <th>9240</th>\n",
       "      <td>Marcus Smith</td>\n",
       "      <td>56</td>\n",
       "      <td>Male</td>\n",
       "      <td>AB+</td>\n",
       "      <td>Arthritis</td>\n",
       "      <td>2019-08-29</td>\n",
       "      <td>Danielle King</td>\n",
       "      <td>Shaffer, White and Finley</td>\n",
       "      <td>Cigna</td>\n",
       "      <td>19038.58</td>\n",
       "      <td>186</td>\n",
       "      <td>Emergency</td>\n",
       "      <td>2019-09-23</td>\n",
       "      <td>Paracetamol</td>\n",
       "      <td>Abnormal</td>\n",
       "      <td>25</td>\n",
       "    </tr>\n",
       "  </tbody>\n",
       "</table>\n",
       "</div>"
      ],
      "text/plain": [
       "                Name  Age  Gender Blood Type Medical Condition  \\\n",
       "9022    Bobby Keller   84    Male        AB-      Hypertension   \n",
       "138    Patrick Bates   32    Male         B+            Cancer   \n",
       "7270  Kathleen Evans   75    Male         B-      Hypertension   \n",
       "1595    Sylvia Oneal   36  Female         A-         Arthritis   \n",
       "9240    Marcus Smith   56    Male        AB+         Arthritis   \n",
       "\n",
       "     Date of Admission            Doctor                   Hospital  \\\n",
       "9022        2019-05-31       Mike Walker          Patterson-Johnson   \n",
       "138         2023-07-09  Jillian Marshall       Lara, Ward and Brown   \n",
       "7270        2022-02-08      Kathleen Day              Hull and Sons   \n",
       "1595        2020-01-07        Jay Lawson             Savage-Sanchez   \n",
       "9240        2019-08-29     Danielle King  Shaffer, White and Finley   \n",
       "\n",
       "     Insurance Provider  Billing Amount Room Number Admission Type  \\\n",
       "9022              Cigna         5402.83         410       Elective   \n",
       "138          Blue Cross        44535.25         413      Emergency   \n",
       "7270              Cigna         1614.54         387       Elective   \n",
       "1595   UnitedHealthcare         4661.98         489       Elective   \n",
       "9240              Cigna        19038.58         186      Emergency   \n",
       "\n",
       "     Discharge Date   Medication Test Results  Length_of_Stay  \n",
       "9022     2019-06-09   Penicillin     Abnormal               9  \n",
       "138      2023-07-17   Penicillin       Normal               8  \n",
       "7270     2022-02-21    Ibuprofen       Normal              13  \n",
       "1595     2020-01-14  Paracetamol     Abnormal               7  \n",
       "9240     2019-09-23  Paracetamol     Abnormal              25  "
      ]
     },
     "execution_count": 36,
     "metadata": {},
     "output_type": "execute_result"
    }
   ],
   "source": [
    "healthcare_dataset['Length_of_Stay']=(pd.to_datetime(healthcare_dataset['Discharge Date'])-pd.to_datetime(healthcare_dataset['Date of Admission'])).dt.days\n",
    "healthcare_dataset.sample(5)"
   ]
  },
  {
   "cell_type": "code",
   "execution_count": 37,
   "id": "6738c106-15bf-456d-8534-04edf49a892e",
   "metadata": {},
   "outputs": [
    {
     "data": {
      "text/plain": [
       "15.5618"
      ]
     },
     "execution_count": 37,
     "metadata": {},
     "output_type": "execute_result"
    }
   ],
   "source": [
    "#Let's Find The Average Days a patient stays in a Hostpital\n",
    "healthcare_dataset['Length_of_Stay'].mean()"
   ]
  },
  {
   "cell_type": "markdown",
   "id": "8bf6d605-7ebf-49c0-a8c7-71dfe8cf5fdb",
   "metadata": {},
   "source": [
    "#### An Average Person Stays Almost 15-16 Days After Being Admitted in a Hospital"
   ]
  },
  {
   "cell_type": "code",
   "execution_count": 38,
   "id": "647a9de5-9904-4f1f-8283-8b3c22b87c88",
   "metadata": {},
   "outputs": [
    {
     "data": {
      "text/plain": [
       "Gender\n",
       "Female    15.615764\n",
       "Male      15.506193\n",
       "Name: Length_of_Stay, dtype: float64"
      ]
     },
     "execution_count": 38,
     "metadata": {},
     "output_type": "execute_result"
    }
   ],
   "source": [
    "#Finding Average Stay in Each Hospitals\n",
    "average_length_of_stay_by_gender = healthcare_dataset.groupby('Gender')['Length_of_Stay'].mean()\n",
    "average_length_of_stay_by_gender"
   ]
  },
  {
   "cell_type": "code",
   "execution_count": 39,
   "id": "67277d88-f1d1-47b6-92e8-841c32c8e420",
   "metadata": {},
   "outputs": [
    {
     "data": {
      "text/plain": [
       "Medical Condition\n",
       "Arthritis       15.990303\n",
       "Asthma          15.481265\n",
       "Cancer          15.479742\n",
       "Diabetes        15.574245\n",
       "Hypertension    15.430095\n",
       "Obesity         15.421990\n",
       "Name: Length_of_Stay, dtype: float64"
      ]
     },
     "execution_count": 39,
     "metadata": {},
     "output_type": "execute_result"
    }
   ],
   "source": [
    "#Finding Average Stay For Each Medical_Condition\n",
    "average_length_of_stay_by_medical_condition = healthcare_dataset.groupby('Medical Condition')['Length_of_Stay'].mean()\n",
    "average_length_of_stay_by_medical_condition"
   ]
  },
  {
   "cell_type": "code",
   "execution_count": 40,
   "id": "a454b7a2-a38f-46d1-a363-39e176d723c5",
   "metadata": {},
   "outputs": [
    {
     "data": {
      "text/plain": [
       "Admission Type\n",
       "Elective     15.601172\n",
       "Emergency    15.609742\n",
       "Urgent       15.476556\n",
       "Name: Length_of_Stay, dtype: float64"
      ]
     },
     "execution_count": 40,
     "metadata": {},
     "output_type": "execute_result"
    }
   ],
   "source": [
    "#Finding Average Stay For Each Medical_Condition\n",
    "average_length_of_stay_by_admission_type = healthcare_dataset.groupby('Admission Type')['Length_of_Stay'].mean()\n",
    "average_length_of_stay_by_admission_type"
   ]
  },
  {
   "cell_type": "code",
   "execution_count": 41,
   "id": "a34d71c0-5656-4b56-a146-267437098b68",
   "metadata": {},
   "outputs": [
    {
     "data": {
      "text/plain": [
       "Hospital\n",
       "Abbott Inc                     32114.21\n",
       "Abbott LLC                     10497.36\n",
       "Abbott PLC                     31786.83\n",
       "Abbott, Curry and Moore        11869.28\n",
       "Abbott-Jordan                  25326.81\n",
       "                                 ...   \n",
       "Zimmerman, Salinas and Hill    44147.79\n",
       "Zuniga Ltd                     25298.40\n",
       "Zuniga, Taylor and Scott       15868.94\n",
       "Zuniga-Chandler                34439.14\n",
       "Zuniga-Johnson                 22624.01\n",
       "Name: Billing Amount, Length: 8639, dtype: float64"
      ]
     },
     "execution_count": 41,
     "metadata": {},
     "output_type": "execute_result"
    }
   ],
   "source": [
    "#Finding Average_Billing of Each Hospitals\n",
    "Billing_by_hospital = healthcare_dataset.groupby('Hospital')['Billing Amount'].mean()\n",
    "Billing_by_hospital"
   ]
  },
  {
   "cell_type": "code",
   "execution_count": 42,
   "id": "d7f015ac-6fb2-4a40-88c1-4774fefaadff",
   "metadata": {},
   "outputs": [
    {
     "data": {
      "text/plain": [
       "Hospital\n",
       "Arellano-Mahoney                   49995.90\n",
       "Ellison-Johnson                    49994.98\n",
       "Thompson, Carlson and Kim          49985.97\n",
       "Morales, Ferrell and Clark         49974.81\n",
       "Smith, Cooper and Chavez           49974.30\n",
       "Webster, Oconnell and Norton       49974.16\n",
       "Ford, Gibson and Parker            49958.00\n",
       "Dunn Ltd                           49954.97\n",
       "Sanders, Robertson and Williams    49951.26\n",
       "Harmon-Anderson                    49947.56\n",
       "Name: Billing Amount, dtype: float64"
      ]
     },
     "execution_count": 42,
     "metadata": {},
     "output_type": "execute_result"
    }
   ],
   "source": [
    "#Hospitals with Most Average Billing\n",
    "Billing_by_hospital.nlargest(10)"
   ]
  },
  {
   "cell_type": "code",
   "execution_count": 43,
   "id": "4f3b89c9-65be-4d59-b5fd-c91ac9d798d3",
   "metadata": {},
   "outputs": [
    {
     "data": {
      "text/plain": [
       "Hospital\n",
       "Nguyen-Allen                   1004.42\n",
       "Johnston PLC                   1020.34\n",
       "Pennington-Cook                1032.64\n",
       "Reeves, Hunt and Cruz          1036.08\n",
       "Reyes-Mills                    1042.98\n",
       "Rose, Vargas and Fox           1057.02\n",
       "Russell, Smith and Saunders    1068.42\n",
       "Cooper-Garcia                  1070.02\n",
       "Wolf-Myers                     1071.46\n",
       "Aguilar, Hubbard and Glenn     1082.44\n",
       "Name: Billing Amount, dtype: float64"
      ]
     },
     "execution_count": 43,
     "metadata": {},
     "output_type": "execute_result"
    }
   ],
   "source": [
    "#Hospitals with Least Average Billing\n",
    "Billing_by_hospital.nsmallest(10)"
   ]
  },
  {
   "cell_type": "code",
   "execution_count": 44,
   "id": "6b9261e5-b931-43b6-9a6e-72c83f603fb2",
   "metadata": {},
   "outputs": [
    {
     "ename": "ValueError",
     "evalue": "could not convert string to float: 'Elective'",
     "output_type": "error",
     "traceback": [
      "\u001b[1;31m---------------------------------------------------------------------------\u001b[0m",
      "\u001b[1;31mValueError\u001b[0m                                Traceback (most recent call last)",
      "Cell \u001b[1;32mIn[44], line 1\u001b[0m\n\u001b[1;32m----> 1\u001b[0m \u001b[43mplt\u001b[49m\u001b[38;5;241;43m.\u001b[39;49m\u001b[43mpie\u001b[49m\u001b[43m(\u001b[49m\u001b[43mhealthcare_dataset\u001b[49m\u001b[43m[\u001b[49m\u001b[38;5;124;43m'\u001b[39;49m\u001b[38;5;124;43mAdmission Type\u001b[39;49m\u001b[38;5;124;43m'\u001b[39;49m\u001b[43m]\u001b[49m\u001b[43m)\u001b[49m\n\u001b[0;32m      2\u001b[0m plt\u001b[38;5;241m.\u001b[39mshow()\n",
      "File \u001b[1;32m~\\anaconda3\\lib\\site-packages\\matplotlib\\pyplot.py:3546\u001b[0m, in \u001b[0;36mpie\u001b[1;34m(x, explode, labels, colors, autopct, pctdistance, shadow, labeldistance, startangle, radius, counterclock, wedgeprops, textprops, center, frame, rotatelabels, normalize, hatch, data)\u001b[0m\n\u001b[0;32m   3523\u001b[0m \u001b[38;5;129m@_copy_docstring_and_deprecators\u001b[39m(Axes\u001b[38;5;241m.\u001b[39mpie)\n\u001b[0;32m   3524\u001b[0m \u001b[38;5;28;01mdef\u001b[39;00m \u001b[38;5;21mpie\u001b[39m(\n\u001b[0;32m   3525\u001b[0m     x: ArrayLike,\n\u001b[1;32m   (...)\u001b[0m\n\u001b[0;32m   3544\u001b[0m     data\u001b[38;5;241m=\u001b[39m\u001b[38;5;28;01mNone\u001b[39;00m,\n\u001b[0;32m   3545\u001b[0m ) \u001b[38;5;241m-\u001b[39m\u001b[38;5;241m>\u001b[39m \u001b[38;5;28mtuple\u001b[39m[\u001b[38;5;28mlist\u001b[39m[Wedge], \u001b[38;5;28mlist\u001b[39m[Text]] \u001b[38;5;241m|\u001b[39m \u001b[38;5;28mtuple\u001b[39m[\u001b[38;5;28mlist\u001b[39m[Wedge], \u001b[38;5;28mlist\u001b[39m[Text], \u001b[38;5;28mlist\u001b[39m[Text]]:\n\u001b[1;32m-> 3546\u001b[0m     \u001b[38;5;28;01mreturn\u001b[39;00m gca()\u001b[38;5;241m.\u001b[39mpie(\n\u001b[0;32m   3547\u001b[0m         x,\n\u001b[0;32m   3548\u001b[0m         explode\u001b[38;5;241m=\u001b[39mexplode,\n\u001b[0;32m   3549\u001b[0m         labels\u001b[38;5;241m=\u001b[39mlabels,\n\u001b[0;32m   3550\u001b[0m         colors\u001b[38;5;241m=\u001b[39mcolors,\n\u001b[0;32m   3551\u001b[0m         autopct\u001b[38;5;241m=\u001b[39mautopct,\n\u001b[0;32m   3552\u001b[0m         pctdistance\u001b[38;5;241m=\u001b[39mpctdistance,\n\u001b[0;32m   3553\u001b[0m         shadow\u001b[38;5;241m=\u001b[39mshadow,\n\u001b[0;32m   3554\u001b[0m         labeldistance\u001b[38;5;241m=\u001b[39mlabeldistance,\n\u001b[0;32m   3555\u001b[0m         startangle\u001b[38;5;241m=\u001b[39mstartangle,\n\u001b[0;32m   3556\u001b[0m         radius\u001b[38;5;241m=\u001b[39mradius,\n\u001b[0;32m   3557\u001b[0m         counterclock\u001b[38;5;241m=\u001b[39mcounterclock,\n\u001b[0;32m   3558\u001b[0m         wedgeprops\u001b[38;5;241m=\u001b[39mwedgeprops,\n\u001b[0;32m   3559\u001b[0m         textprops\u001b[38;5;241m=\u001b[39mtextprops,\n\u001b[0;32m   3560\u001b[0m         center\u001b[38;5;241m=\u001b[39mcenter,\n\u001b[0;32m   3561\u001b[0m         frame\u001b[38;5;241m=\u001b[39mframe,\n\u001b[0;32m   3562\u001b[0m         rotatelabels\u001b[38;5;241m=\u001b[39mrotatelabels,\n\u001b[0;32m   3563\u001b[0m         normalize\u001b[38;5;241m=\u001b[39mnormalize,\n\u001b[0;32m   3564\u001b[0m         hatch\u001b[38;5;241m=\u001b[39mhatch,\n\u001b[0;32m   3565\u001b[0m         \u001b[38;5;241m*\u001b[39m\u001b[38;5;241m*\u001b[39m({\u001b[38;5;124m\"\u001b[39m\u001b[38;5;124mdata\u001b[39m\u001b[38;5;124m\"\u001b[39m: data} \u001b[38;5;28;01mif\u001b[39;00m data \u001b[38;5;129;01mis\u001b[39;00m \u001b[38;5;129;01mnot\u001b[39;00m \u001b[38;5;28;01mNone\u001b[39;00m \u001b[38;5;28;01melse\u001b[39;00m {}),\n\u001b[0;32m   3566\u001b[0m     )\n",
      "File \u001b[1;32m~\\anaconda3\\lib\\site-packages\\matplotlib\\__init__.py:1465\u001b[0m, in \u001b[0;36m_preprocess_data.<locals>.inner\u001b[1;34m(ax, data, *args, **kwargs)\u001b[0m\n\u001b[0;32m   1462\u001b[0m \u001b[38;5;129m@functools\u001b[39m\u001b[38;5;241m.\u001b[39mwraps(func)\n\u001b[0;32m   1463\u001b[0m \u001b[38;5;28;01mdef\u001b[39;00m \u001b[38;5;21minner\u001b[39m(ax, \u001b[38;5;241m*\u001b[39margs, data\u001b[38;5;241m=\u001b[39m\u001b[38;5;28;01mNone\u001b[39;00m, \u001b[38;5;241m*\u001b[39m\u001b[38;5;241m*\u001b[39mkwargs):\n\u001b[0;32m   1464\u001b[0m     \u001b[38;5;28;01mif\u001b[39;00m data \u001b[38;5;129;01mis\u001b[39;00m \u001b[38;5;28;01mNone\u001b[39;00m:\n\u001b[1;32m-> 1465\u001b[0m         \u001b[38;5;28;01mreturn\u001b[39;00m func(ax, \u001b[38;5;241m*\u001b[39m\u001b[38;5;28mmap\u001b[39m(sanitize_sequence, args), \u001b[38;5;241m*\u001b[39m\u001b[38;5;241m*\u001b[39mkwargs)\n\u001b[0;32m   1467\u001b[0m     bound \u001b[38;5;241m=\u001b[39m new_sig\u001b[38;5;241m.\u001b[39mbind(ax, \u001b[38;5;241m*\u001b[39margs, \u001b[38;5;241m*\u001b[39m\u001b[38;5;241m*\u001b[39mkwargs)\n\u001b[0;32m   1468\u001b[0m     auto_label \u001b[38;5;241m=\u001b[39m (bound\u001b[38;5;241m.\u001b[39marguments\u001b[38;5;241m.\u001b[39mget(label_namer)\n\u001b[0;32m   1469\u001b[0m                   \u001b[38;5;129;01mor\u001b[39;00m bound\u001b[38;5;241m.\u001b[39mkwargs\u001b[38;5;241m.\u001b[39mget(label_namer))\n",
      "File \u001b[1;32m~\\anaconda3\\lib\\site-packages\\matplotlib\\axes\\_axes.py:3219\u001b[0m, in \u001b[0;36mAxes.pie\u001b[1;34m(self, x, explode, labels, colors, autopct, pctdistance, shadow, labeldistance, startangle, radius, counterclock, wedgeprops, textprops, center, frame, rotatelabels, normalize, hatch)\u001b[0m\n\u001b[0;32m   3216\u001b[0m \u001b[38;5;28mself\u001b[39m\u001b[38;5;241m.\u001b[39mset_aspect(\u001b[38;5;124m'\u001b[39m\u001b[38;5;124mequal\u001b[39m\u001b[38;5;124m'\u001b[39m)\n\u001b[0;32m   3217\u001b[0m \u001b[38;5;66;03m# The use of float32 is \"historical\", but can't be changed without\u001b[39;00m\n\u001b[0;32m   3218\u001b[0m \u001b[38;5;66;03m# regenerating the test baselines.\u001b[39;00m\n\u001b[1;32m-> 3219\u001b[0m x \u001b[38;5;241m=\u001b[39m \u001b[43mnp\u001b[49m\u001b[38;5;241;43m.\u001b[39;49m\u001b[43masarray\u001b[49m\u001b[43m(\u001b[49m\u001b[43mx\u001b[49m\u001b[43m,\u001b[49m\u001b[43m \u001b[49m\u001b[43mnp\u001b[49m\u001b[38;5;241;43m.\u001b[39;49m\u001b[43mfloat32\u001b[49m\u001b[43m)\u001b[49m\n\u001b[0;32m   3220\u001b[0m \u001b[38;5;28;01mif\u001b[39;00m x\u001b[38;5;241m.\u001b[39mndim \u001b[38;5;241m>\u001b[39m \u001b[38;5;241m1\u001b[39m:\n\u001b[0;32m   3221\u001b[0m     \u001b[38;5;28;01mraise\u001b[39;00m \u001b[38;5;167;01mValueError\u001b[39;00m(\u001b[38;5;124m\"\u001b[39m\u001b[38;5;124mx must be 1D\u001b[39m\u001b[38;5;124m\"\u001b[39m)\n",
      "File \u001b[1;32m~\\anaconda3\\lib\\site-packages\\pandas\\core\\series.py:953\u001b[0m, in \u001b[0;36mSeries.__array__\u001b[1;34m(self, dtype)\u001b[0m\n\u001b[0;32m    906\u001b[0m \u001b[38;5;250m\u001b[39m\u001b[38;5;124;03m\"\"\"\u001b[39;00m\n\u001b[0;32m    907\u001b[0m \u001b[38;5;124;03mReturn the values as a NumPy array.\u001b[39;00m\n\u001b[0;32m    908\u001b[0m \n\u001b[1;32m   (...)\u001b[0m\n\u001b[0;32m    950\u001b[0m \u001b[38;5;124;03m      dtype='datetime64[ns]')\u001b[39;00m\n\u001b[0;32m    951\u001b[0m \u001b[38;5;124;03m\"\"\"\u001b[39;00m\n\u001b[0;32m    952\u001b[0m values \u001b[38;5;241m=\u001b[39m \u001b[38;5;28mself\u001b[39m\u001b[38;5;241m.\u001b[39m_values\n\u001b[1;32m--> 953\u001b[0m arr \u001b[38;5;241m=\u001b[39m \u001b[43mnp\u001b[49m\u001b[38;5;241;43m.\u001b[39;49m\u001b[43masarray\u001b[49m\u001b[43m(\u001b[49m\u001b[43mvalues\u001b[49m\u001b[43m,\u001b[49m\u001b[43m \u001b[49m\u001b[43mdtype\u001b[49m\u001b[38;5;241;43m=\u001b[39;49m\u001b[43mdtype\u001b[49m\u001b[43m)\u001b[49m\n\u001b[0;32m    954\u001b[0m \u001b[38;5;28;01mif\u001b[39;00m using_copy_on_write() \u001b[38;5;129;01mand\u001b[39;00m astype_is_view(values\u001b[38;5;241m.\u001b[39mdtype, arr\u001b[38;5;241m.\u001b[39mdtype):\n\u001b[0;32m    955\u001b[0m     arr \u001b[38;5;241m=\u001b[39m arr\u001b[38;5;241m.\u001b[39mview()\n",
      "\u001b[1;31mValueError\u001b[0m: could not convert string to float: 'Elective'"
     ]
    },
    {
     "data": {
      "image/png": "[encoded data removed]",
      "text/plain": [
       "<Figure size 640x480 with 1 Axes>"
      ]
     },
     "metadata": {},
     "output_type": "display_data"
    }
   ],
   "source": [
    "plt.pie(healthcare_dataset['Admission Type'])\n",
    "plt.show()"
   ]
  },
  {
   "cell_type": "code",
   "execution_count": null,
   "id": "5738b327-bfd8-4b32-8771-aecdee902908",
   "metadata": {},
   "outputs": [],
   "source": []
  }
 ],
 "metadata": {
  "kernelspec": {
   "display_name": "Python 3 (ipykernel)",
   "language": "python",
   "name": "python3"
  },
  "language_info": {
   "codemirror_mode": {
    "name": "ipython",
    "version": 3
   },
   "file_extension": ".py",
   "mimetype": "text/x-python",
   "name": "python",
   "nbconvert_exporter": "python",
   "pygments_lexer": "ipython3",
   "version": "3.10.13"
  }
 },
 "nbformat": 4,
 "nbformat_minor": 5
}

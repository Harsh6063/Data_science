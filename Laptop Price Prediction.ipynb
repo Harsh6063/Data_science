{
 "cells": [
  {
   "cell_type": "code",
   "execution_count": 159,
   "id": "eb96deb7-d4d1-4a8e-90fe-fd5d4ec12b39",
   "metadata": {},
   "outputs": [],
   "source": [
    "import pandas as pd\n",
    "import numpy as np"
   ]
  },
  {
   "cell_type": "markdown",
   "id": "a0ee7b07-c3dc-4ce0-ae59-1baab9cb1d0c",
   "metadata": {},
   "source": [
    "#### Importing the Dataset"
   ]
  },
  {
   "cell_type": "code",
   "execution_count": 160,
   "id": "3d78bbf5-8687-4cce-8681-814234ec1e96",
   "metadata": {},
   "outputs": [
    {
     "data": {
      "text/html": [
       "<div>\n",
       "<style scoped>\n",
       "    .dataframe tbody tr th:only-of-type {\n",
       "        vertical-align: middle;\n",
       "    }\n",
       "\n",
       "    .dataframe tbody tr th {\n",
       "        vertical-align: top;\n",
       "    }\n",
       "\n",
       "    .dataframe thead th {\n",
       "        text-align: right;\n",
       "    }\n",
       "</style>\n",
       "<table border=\"1\" class=\"dataframe\">\n",
       "  <thead>\n",
       "    <tr style=\"text-align: right;\">\n",
       "      <th></th>\n",
       "      <th>Company</th>\n",
       "      <th>TypeName</th>\n",
       "      <th>Ram</th>\n",
       "      <th>Weight</th>\n",
       "      <th>Price</th>\n",
       "      <th>TouchScreen</th>\n",
       "      <th>Ips</th>\n",
       "      <th>Ppi</th>\n",
       "      <th>Cpu_brand</th>\n",
       "      <th>HDD</th>\n",
       "      <th>SSD</th>\n",
       "      <th>Gpu_brand</th>\n",
       "      <th>Os</th>\n",
       "    </tr>\n",
       "  </thead>\n",
       "  <tbody>\n",
       "    <tr>\n",
       "      <th>583</th>\n",
       "      <td>Dell</td>\n",
       "      <td>Notebook</td>\n",
       "      <td>16</td>\n",
       "      <td>1.93</td>\n",
       "      <td>11.313402</td>\n",
       "      <td>0</td>\n",
       "      <td>0</td>\n",
       "      <td>141.211998</td>\n",
       "      <td>Intel Core i7</td>\n",
       "      <td>0</td>\n",
       "      <td>256</td>\n",
       "      <td>Nvidia</td>\n",
       "      <td>Windows</td>\n",
       "    </tr>\n",
       "    <tr>\n",
       "      <th>1129</th>\n",
       "      <td>HP</td>\n",
       "      <td>Gaming</td>\n",
       "      <td>8</td>\n",
       "      <td>3.35</td>\n",
       "      <td>11.004649</td>\n",
       "      <td>0</td>\n",
       "      <td>1</td>\n",
       "      <td>127.335675</td>\n",
       "      <td>Intel Core i5</td>\n",
       "      <td>1000</td>\n",
       "      <td>128</td>\n",
       "      <td>Nvidia</td>\n",
       "      <td>Windows</td>\n",
       "    </tr>\n",
       "    <tr>\n",
       "      <th>924</th>\n",
       "      <td>Lenovo</td>\n",
       "      <td>2 in 1 Convertible</td>\n",
       "      <td>8</td>\n",
       "      <td>1.37</td>\n",
       "      <td>11.484896</td>\n",
       "      <td>1</td>\n",
       "      <td>1</td>\n",
       "      <td>165.632118</td>\n",
       "      <td>Intel Core i5</td>\n",
       "      <td>0</td>\n",
       "      <td>512</td>\n",
       "      <td>Intel</td>\n",
       "      <td>Windows</td>\n",
       "    </tr>\n",
       "    <tr>\n",
       "      <th>424</th>\n",
       "      <td>Dell</td>\n",
       "      <td>Gaming</td>\n",
       "      <td>16</td>\n",
       "      <td>4.42</td>\n",
       "      <td>11.912579</td>\n",
       "      <td>0</td>\n",
       "      <td>1</td>\n",
       "      <td>169.780899</td>\n",
       "      <td>Intel Core i7</td>\n",
       "      <td>1000</td>\n",
       "      <td>256</td>\n",
       "      <td>Nvidia</td>\n",
       "      <td>Windows</td>\n",
       "    </tr>\n",
       "    <tr>\n",
       "      <th>472</th>\n",
       "      <td>Google</td>\n",
       "      <td>Ultrabook</td>\n",
       "      <td>8</td>\n",
       "      <td>1.10</td>\n",
       "      <td>11.126262</td>\n",
       "      <td>1</td>\n",
       "      <td>0</td>\n",
       "      <td>234.507400</td>\n",
       "      <td>Intel Core i5</td>\n",
       "      <td>0</td>\n",
       "      <td>128</td>\n",
       "      <td>Intel</td>\n",
       "      <td>Others</td>\n",
       "    </tr>\n",
       "    <tr>\n",
       "      <th>901</th>\n",
       "      <td>Asus</td>\n",
       "      <td>Gaming</td>\n",
       "      <td>32</td>\n",
       "      <td>3.58</td>\n",
       "      <td>11.129395</td>\n",
       "      <td>0</td>\n",
       "      <td>1</td>\n",
       "      <td>127.335675</td>\n",
       "      <td>Intel Core i7</td>\n",
       "      <td>0</td>\n",
       "      <td>512</td>\n",
       "      <td>Nvidia</td>\n",
       "      <td>Windows</td>\n",
       "    </tr>\n",
       "    <tr>\n",
       "      <th>1171</th>\n",
       "      <td>HP</td>\n",
       "      <td>Notebook</td>\n",
       "      <td>16</td>\n",
       "      <td>2.10</td>\n",
       "      <td>11.030874</td>\n",
       "      <td>0</td>\n",
       "      <td>0</td>\n",
       "      <td>141.211998</td>\n",
       "      <td>Intel Core i7</td>\n",
       "      <td>0</td>\n",
       "      <td>512</td>\n",
       "      <td>Intel</td>\n",
       "      <td>Windows</td>\n",
       "    </tr>\n",
       "  </tbody>\n",
       "</table>\n",
       "</div>"
      ],
      "text/plain": [
       "     Company            TypeName  Ram  Weight      Price  TouchScreen  Ips  \\\n",
       "583     Dell            Notebook   16    1.93  11.313402            0    0   \n",
       "1129      HP              Gaming    8    3.35  11.004649            0    1   \n",
       "924   Lenovo  2 in 1 Convertible    8    1.37  11.484896            1    1   \n",
       "424     Dell              Gaming   16    4.42  11.912579            0    1   \n",
       "472   Google           Ultrabook    8    1.10  11.126262            1    0   \n",
       "901     Asus              Gaming   32    3.58  11.129395            0    1   \n",
       "1171      HP            Notebook   16    2.10  11.030874            0    0   \n",
       "\n",
       "             Ppi      Cpu_brand   HDD  SSD Gpu_brand       Os  \n",
       "583   141.211998  Intel Core i7     0  256    Nvidia  Windows  \n",
       "1129  127.335675  Intel Core i5  1000  128    Nvidia  Windows  \n",
       "924   165.632118  Intel Core i5     0  512     Intel  Windows  \n",
       "424   169.780899  Intel Core i7  1000  256    Nvidia  Windows  \n",
       "472   234.507400  Intel Core i5     0  128     Intel   Others  \n",
       "901   127.335675  Intel Core i7     0  512    Nvidia  Windows  \n",
       "1171  141.211998  Intel Core i7     0  512     Intel  Windows  "
      ]
     },
     "execution_count": 160,
     "metadata": {},
     "output_type": "execute_result"
    }
   ],
   "source": [
    "laptop_dt=pd.read_csv(\"laptop_data_cleaned.csv\")\n",
    "laptop_dt.sample(7)"
   ]
  },
  {
   "cell_type": "code",
   "execution_count": 161,
   "id": "2f543165-5ef8-451a-b1db-5aae4f2a5d9d",
   "metadata": {},
   "outputs": [
    {
     "data": {
      "text/plain": [
       "(1273, 13)"
      ]
     },
     "execution_count": 161,
     "metadata": {},
     "output_type": "execute_result"
    }
   ],
   "source": [
    "laptop_dt.shape"
   ]
  },
  {
   "cell_type": "code",
   "execution_count": 162,
   "id": "1252080e-2c30-4f22-882f-ba1592880578",
   "metadata": {},
   "outputs": [
    {
     "name": "stdout",
     "output_type": "stream",
     "text": [
      "<class 'pandas.core.frame.DataFrame'>\n",
      "RangeIndex: 1273 entries, 0 to 1272\n",
      "Data columns (total 13 columns):\n",
      " #   Column       Non-Null Count  Dtype  \n",
      "---  ------       --------------  -----  \n",
      " 0   Company      1273 non-null   object \n",
      " 1   TypeName     1273 non-null   object \n",
      " 2   Ram          1273 non-null   int64  \n",
      " 3   Weight       1273 non-null   float64\n",
      " 4   Price        1273 non-null   float64\n",
      " 5   TouchScreen  1273 non-null   int64  \n",
      " 6   Ips          1273 non-null   int64  \n",
      " 7   Ppi          1273 non-null   float64\n",
      " 8   Cpu_brand    1273 non-null   object \n",
      " 9   HDD          1273 non-null   int64  \n",
      " 10  SSD          1273 non-null   int64  \n",
      " 11  Gpu_brand    1273 non-null   object \n",
      " 12  Os           1273 non-null   object \n",
      "dtypes: float64(3), int64(5), object(5)\n",
      "memory usage: 129.4+ KB\n"
     ]
    }
   ],
   "source": [
    "laptop_dt.info()"
   ]
  },
  {
   "cell_type": "markdown",
   "id": "2a51d5f1-4978-4120-8911-123e04b4ce35",
   "metadata": {},
   "source": [
    "#### This shows us That this dataset has 13 columns and all have different data types with 1273 rows in each column"
   ]
  },
  {
   "cell_type": "code",
   "execution_count": 163,
   "id": "4f154ccb-f515-4e49-8fd8-33ffb0f57ac3",
   "metadata": {},
   "outputs": [
    {
     "data": {
      "text/plain": [
       "Index(['Company', 'TypeName', 'Ram', 'Weight', 'Price', 'TouchScreen', 'Ips',\n",
       "       'Ppi', 'Cpu_brand', 'HDD', 'SSD', 'Gpu_brand', 'Os'],\n",
       "      dtype='object')"
      ]
     },
     "execution_count": 163,
     "metadata": {},
     "output_type": "execute_result"
    }
   ],
   "source": [
    "laptop_dt.columns"
   ]
  },
  {
   "cell_type": "code",
   "execution_count": 164,
   "id": "c905e86d-0626-480b-a16e-169e1fb09595",
   "metadata": {},
   "outputs": [
    {
     "data": {
      "text/plain": [
       "Company        0\n",
       "TypeName       0\n",
       "Ram            0\n",
       "Weight         0\n",
       "Price          0\n",
       "TouchScreen    0\n",
       "Ips            0\n",
       "Ppi            0\n",
       "Cpu_brand      0\n",
       "HDD            0\n",
       "SSD            0\n",
       "Gpu_brand      0\n",
       "Os             0\n",
       "dtype: int64"
      ]
     },
     "execution_count": 164,
     "metadata": {},
     "output_type": "execute_result"
    }
   ],
   "source": [
    "laptop_dt.isnull().sum()"
   ]
  },
  {
   "cell_type": "code",
   "execution_count": 165,
   "id": "b29b4320-2fcc-4688-b8d6-1ff7d52ed3de",
   "metadata": {},
   "outputs": [
    {
     "data": {
      "text/plain": [
       "(1272, 13)"
      ]
     },
     "execution_count": 165,
     "metadata": {},
     "output_type": "execute_result"
    }
   ],
   "source": [
    "laptop_dt=laptop_dt.drop_duplicates()\n",
    "laptop_dt.shape"
   ]
  },
  {
   "cell_type": "markdown",
   "id": "a5a576f0-afae-4334-a434-9df0ce30f051",
   "metadata": {},
   "source": [
    "##### Dataset had 1 Duplicated Row"
   ]
  },
  {
   "cell_type": "code",
   "execution_count": 166,
   "id": "dc45934c-6bf9-4ce9-9024-6d64513ee2a7",
   "metadata": {},
   "outputs": [
    {
     "data": {
      "text/plain": [
       "Company\n",
       "Dell         291\n",
       "Lenovo       289\n",
       "HP           268\n",
       "Asus         151\n",
       "Acer         101\n",
       "MSI           54\n",
       "Toshiba       47\n",
       "Apple         21\n",
       "Samsung        8\n",
       "Razer          7\n",
       "Mediacom       7\n",
       "Microsoft      6\n",
       "Xiaomi         4\n",
       "Vero           4\n",
       "Chuwi          3\n",
       "Google         3\n",
       "Fujitsu        3\n",
       "LG             3\n",
       "Huawei         2\n",
       "Name: count, dtype: int64"
      ]
     },
     "execution_count": 166,
     "metadata": {},
     "output_type": "execute_result"
    }
   ],
   "source": [
    "laptop_dt.Company.value_counts() "
   ]
  },
  {
   "cell_type": "markdown",
   "id": "e46d6eed-d3ee-4097-a44b-4d52ecd779ee",
   "metadata": {},
   "source": [
    "### Detecting And Removing outliers"
   ]
  },
  {
   "cell_type": "code",
   "execution_count": 167,
   "id": "cbb85cdd-2682-4a70-8128-8c63a82a5ba7",
   "metadata": {},
   "outputs": [
    {
     "data": {
      "text/plain": [
       "<Axes: ylabel='Weight'>"
      ]
     },
     "execution_count": 167,
     "metadata": {},
     "output_type": "execute_result"
    },
    {
     "data": {
      "image/png": "[encoded data removed]",
      "text/plain": [
       "<Figure size 640x480 with 1 Axes>"
      ]
     },
     "metadata": {},
     "output_type": "display_data"
    }
   ],
   "source": [
    "import seaborn as sns\n",
    "sns.boxplot(data=laptop_dt.Weight)"
   ]
  },
  {
   "cell_type": "code",
   "execution_count": 168,
   "id": "761bff3a-6168-4bfb-a211-329251d53050",
   "metadata": {},
   "outputs": [],
   "source": [
    "# Calculate Q1 (25th percentile) and Q3 (75th percentile)\n",
    "Q1 = laptop_dt['Weight'].quantile(0.25)\n",
    "Q3 = laptop_dt['Weight'].quantile(0.75)\n",
    "\n",
    "# Calculate IQR\n",
    "IQR = Q3 - Q1\n",
    "\n",
    "# Define lower and upper bounds\n",
    "lower_bound = Q1 - 1.5 * IQR\n",
    "upper_bound = Q3 + 1.5 * IQR\n",
    "\n",
    "# Remove outliers\n",
    "laptop_dt = laptop_dt[(laptop_dt['Weight'] >= lower_bound) & (laptop_dt['Weight'] <= upper_bound)]\n"
   ]
  },
  {
   "cell_type": "code",
   "execution_count": 169,
   "id": "65eace8e-bcef-476d-bbfa-8bb6610bae9c",
   "metadata": {},
   "outputs": [
    {
     "data": {
      "text/plain": [
       "Ram\n",
       "8     612\n",
       "4     364\n",
       "16    170\n",
       "6      35\n",
       "12     23\n",
       "2      16\n",
       "32      5\n",
       "24      2\n",
       "Name: count, dtype: int64"
      ]
     },
     "execution_count": 169,
     "metadata": {},
     "output_type": "execute_result"
    }
   ],
   "source": [
    "laptop_dt.Ram.value_counts()"
   ]
  },
  {
   "cell_type": "code",
   "execution_count": 170,
   "id": "0811d5af-3860-4162-a88b-fd9e2f1a2e67",
   "metadata": {},
   "outputs": [
    {
     "data": {
      "text/plain": [
       "Gpu_brand\n",
       "Intel     702\n",
       "Nvidia    352\n",
       "AMD       173\n",
       "Name: count, dtype: int64"
      ]
     },
     "execution_count": 170,
     "metadata": {},
     "output_type": "execute_result"
    }
   ],
   "source": [
    "laptop_dt.Gpu_brand.value_counts()"
   ]
  },
  {
   "cell_type": "code",
   "execution_count": 171,
   "id": "d1b50a2f-5f59-4282-933b-87f3c830bde2",
   "metadata": {},
   "outputs": [
    {
     "data": {
      "text/plain": [
       "Os\n",
       "Windows    1055\n",
       "Others      151\n",
       "Mac          21\n",
       "Name: count, dtype: int64"
      ]
     },
     "execution_count": 171,
     "metadata": {},
     "output_type": "execute_result"
    }
   ],
   "source": [
    "laptop_dt.Os.value_counts()"
   ]
  },
  {
   "cell_type": "code",
   "execution_count": 172,
   "id": "214a536e-de74-4331-aab0-849552345b87",
   "metadata": {},
   "outputs": [
    {
     "data": {
      "text/plain": [
       "TypeName\n",
       "Notebook              704\n",
       "Ultrabook             194\n",
       "Gaming                161\n",
       "2 in 1 Convertible    116\n",
       "Workstation            29\n",
       "Netbook                23\n",
       "Name: count, dtype: int64"
      ]
     },
     "execution_count": 172,
     "metadata": {},
     "output_type": "execute_result"
    }
   ],
   "source": [
    "laptop_dt.TypeName.value_counts()"
   ]
  },
  {
   "cell_type": "code",
   "execution_count": 173,
   "id": "cc9e77b8-ebf7-47b3-abfa-a685d6212589",
   "metadata": {},
   "outputs": [
    {
     "data": {
      "text/plain": [
       "Cpu_brand\n",
       "Intel Core i7            470\n",
       "Intel Core i5            422\n",
       "Other Intel Processor    141\n",
       "Intel Core i3            134\n",
       "AMD Processor             60\n",
       "Name: count, dtype: int64"
      ]
     },
     "execution_count": 173,
     "metadata": {},
     "output_type": "execute_result"
    }
   ],
   "source": [
    "laptop_dt.Cpu_brand.value_counts()"
   ]
  },
  {
   "cell_type": "code",
   "execution_count": 174,
   "id": "2599be32-e824-4456-ba9f-16ee8612bad7",
   "metadata": {},
   "outputs": [
    {
     "data": {
      "text/plain": [
       "HDD\n",
       "0       707\n",
       "1000    361\n",
       "500     125\n",
       "2000     32\n",
       "32        1\n",
       "128       1\n",
       "Name: count, dtype: int64"
      ]
     },
     "execution_count": 174,
     "metadata": {},
     "output_type": "execute_result"
    }
   ],
   "source": [
    "laptop_dt.HDD.value_counts()"
   ]
  },
  {
   "cell_type": "code",
   "execution_count": 175,
   "id": "649d53e6-9cda-4ba1-8e81-07ca959dc6eb",
   "metadata": {},
   "outputs": [
    {
     "data": {
      "text/plain": [
       "SSD\n",
       "256     480\n",
       "0       432\n",
       "128     161\n",
       "512     122\n",
       "1000     13\n",
       "32        6\n",
       "180       5\n",
       "16        3\n",
       "64        1\n",
       "1024      1\n",
       "768       1\n",
       "240       1\n",
       "8         1\n",
       "Name: count, dtype: int64"
      ]
     },
     "execution_count": 175,
     "metadata": {},
     "output_type": "execute_result"
    }
   ],
   "source": [
    "laptop_dt.SSD.value_counts()"
   ]
  },
  {
   "cell_type": "markdown",
   "id": "bda89d35-d373-4f2f-ad05-81f157c6b367",
   "metadata": {},
   "source": [
    "### We See That Execpt Company We Can Every Categorical Column into Numbers to Improve Efficiency"
   ]
  },
  {
   "cell_type": "code",
   "execution_count": 176,
   "id": "11f9ae9b-6e9b-48da-b5ef-5488fa6226f5",
   "metadata": {},
   "outputs": [],
   "source": [
    "from sklearn.preprocessing import LabelEncoder"
   ]
  },
  {
   "cell_type": "code",
   "execution_count": 177,
   "id": "3e087a1a-58dd-40fe-88f3-a95b04ef8d6a",
   "metadata": {},
   "outputs": [
    {
     "data": {
      "text/html": [
       "<div>\n",
       "<style scoped>\n",
       "    .dataframe tbody tr th:only-of-type {\n",
       "        vertical-align: middle;\n",
       "    }\n",
       "\n",
       "    .dataframe tbody tr th {\n",
       "        vertical-align: top;\n",
       "    }\n",
       "\n",
       "    .dataframe thead th {\n",
       "        text-align: right;\n",
       "    }\n",
       "</style>\n",
       "<table border=\"1\" class=\"dataframe\">\n",
       "  <thead>\n",
       "    <tr style=\"text-align: right;\">\n",
       "      <th></th>\n",
       "      <th>Company</th>\n",
       "      <th>TypeName</th>\n",
       "      <th>Ram</th>\n",
       "      <th>Weight</th>\n",
       "      <th>Price</th>\n",
       "      <th>TouchScreen</th>\n",
       "      <th>Ips</th>\n",
       "      <th>Ppi</th>\n",
       "      <th>Cpu_brand</th>\n",
       "      <th>HDD</th>\n",
       "      <th>SSD</th>\n",
       "      <th>Gpu_brand</th>\n",
       "      <th>Os</th>\n",
       "      <th>encoded_Os</th>\n",
       "      <th>encoded_TypeName</th>\n",
       "      <th>encoded_Cpu_brand</th>\n",
       "      <th>encoded_Gpu_brand</th>\n",
       "      <th>encoded_Company</th>\n",
       "    </tr>\n",
       "  </thead>\n",
       "  <tbody>\n",
       "    <tr>\n",
       "      <th>158</th>\n",
       "      <td>Dell</td>\n",
       "      <td>2 in 1 Convertible</td>\n",
       "      <td>8</td>\n",
       "      <td>1.560</td>\n",
       "      <td>10.931154</td>\n",
       "      <td>1</td>\n",
       "      <td>0</td>\n",
       "      <td>141.211998</td>\n",
       "      <td>Intel Core i7</td>\n",
       "      <td>0</td>\n",
       "      <td>256</td>\n",
       "      <td>Intel</td>\n",
       "      <td>Windows</td>\n",
       "      <td>2</td>\n",
       "      <td>0</td>\n",
       "      <td>3</td>\n",
       "      <td>1</td>\n",
       "      <td>4</td>\n",
       "    </tr>\n",
       "    <tr>\n",
       "      <th>670</th>\n",
       "      <td>Microsoft</td>\n",
       "      <td>Ultrabook</td>\n",
       "      <td>8</td>\n",
       "      <td>1.252</td>\n",
       "      <td>11.508104</td>\n",
       "      <td>1</td>\n",
       "      <td>0</td>\n",
       "      <td>200.842560</td>\n",
       "      <td>Intel Core i7</td>\n",
       "      <td>0</td>\n",
       "      <td>256</td>\n",
       "      <td>Intel</td>\n",
       "      <td>Windows</td>\n",
       "      <td>2</td>\n",
       "      <td>4</td>\n",
       "      <td>3</td>\n",
       "      <td>1</td>\n",
       "      <td>13</td>\n",
       "    </tr>\n",
       "    <tr>\n",
       "      <th>719</th>\n",
       "      <td>HP</td>\n",
       "      <td>Notebook</td>\n",
       "      <td>8</td>\n",
       "      <td>2.630</td>\n",
       "      <td>11.065638</td>\n",
       "      <td>0</td>\n",
       "      <td>0</td>\n",
       "      <td>127.335675</td>\n",
       "      <td>Intel Core i7</td>\n",
       "      <td>0</td>\n",
       "      <td>256</td>\n",
       "      <td>Nvidia</td>\n",
       "      <td>Windows</td>\n",
       "      <td>2</td>\n",
       "      <td>3</td>\n",
       "      <td>3</td>\n",
       "      <td>2</td>\n",
       "      <td>7</td>\n",
       "    </tr>\n",
       "    <tr>\n",
       "      <th>1015</th>\n",
       "      <td>Toshiba</td>\n",
       "      <td>Notebook</td>\n",
       "      <td>8</td>\n",
       "      <td>1.500</td>\n",
       "      <td>11.073937</td>\n",
       "      <td>0</td>\n",
       "      <td>0</td>\n",
       "      <td>117.826530</td>\n",
       "      <td>Intel Core i5</td>\n",
       "      <td>0</td>\n",
       "      <td>256</td>\n",
       "      <td>Intel</td>\n",
       "      <td>Windows</td>\n",
       "      <td>2</td>\n",
       "      <td>3</td>\n",
       "      <td>2</td>\n",
       "      <td>1</td>\n",
       "      <td>16</td>\n",
       "    </tr>\n",
       "    <tr>\n",
       "      <th>967</th>\n",
       "      <td>HP</td>\n",
       "      <td>Notebook</td>\n",
       "      <td>4</td>\n",
       "      <td>2.040</td>\n",
       "      <td>10.504980</td>\n",
       "      <td>0</td>\n",
       "      <td>0</td>\n",
       "      <td>141.211998</td>\n",
       "      <td>Intel Core i3</td>\n",
       "      <td>500</td>\n",
       "      <td>0</td>\n",
       "      <td>Intel</td>\n",
       "      <td>Windows</td>\n",
       "      <td>2</td>\n",
       "      <td>3</td>\n",
       "      <td>1</td>\n",
       "      <td>1</td>\n",
       "      <td>7</td>\n",
       "    </tr>\n",
       "    <tr>\n",
       "      <th>662</th>\n",
       "      <td>Lenovo</td>\n",
       "      <td>Notebook</td>\n",
       "      <td>4</td>\n",
       "      <td>2.200</td>\n",
       "      <td>10.257828</td>\n",
       "      <td>0</td>\n",
       "      <td>0</td>\n",
       "      <td>141.211998</td>\n",
       "      <td>Intel Core i5</td>\n",
       "      <td>500</td>\n",
       "      <td>0</td>\n",
       "      <td>Intel</td>\n",
       "      <td>Windows</td>\n",
       "      <td>2</td>\n",
       "      <td>3</td>\n",
       "      <td>2</td>\n",
       "      <td>1</td>\n",
       "      <td>10</td>\n",
       "    </tr>\n",
       "    <tr>\n",
       "      <th>412</th>\n",
       "      <td>HP</td>\n",
       "      <td>Notebook</td>\n",
       "      <td>4</td>\n",
       "      <td>2.100</td>\n",
       "      <td>10.126164</td>\n",
       "      <td>0</td>\n",
       "      <td>0</td>\n",
       "      <td>141.211998</td>\n",
       "      <td>Intel Core i3</td>\n",
       "      <td>1000</td>\n",
       "      <td>0</td>\n",
       "      <td>AMD</td>\n",
       "      <td>Windows</td>\n",
       "      <td>2</td>\n",
       "      <td>3</td>\n",
       "      <td>1</td>\n",
       "      <td>0</td>\n",
       "      <td>7</td>\n",
       "    </tr>\n",
       "  </tbody>\n",
       "</table>\n",
       "</div>"
      ],
      "text/plain": [
       "        Company            TypeName  Ram  Weight      Price  TouchScreen  Ips  \\\n",
       "158        Dell  2 in 1 Convertible    8   1.560  10.931154            1    0   \n",
       "670   Microsoft           Ultrabook    8   1.252  11.508104            1    0   \n",
       "719          HP            Notebook    8   2.630  11.065638            0    0   \n",
       "1015    Toshiba            Notebook    8   1.500  11.073937            0    0   \n",
       "967          HP            Notebook    4   2.040  10.504980            0    0   \n",
       "662      Lenovo            Notebook    4   2.200  10.257828            0    0   \n",
       "412          HP            Notebook    4   2.100  10.126164            0    0   \n",
       "\n",
       "             Ppi      Cpu_brand   HDD  SSD Gpu_brand       Os  encoded_Os  \\\n",
       "158   141.211998  Intel Core i7     0  256     Intel  Windows           2   \n",
       "670   200.842560  Intel Core i7     0  256     Intel  Windows           2   \n",
       "719   127.335675  Intel Core i7     0  256    Nvidia  Windows           2   \n",
       "1015  117.826530  Intel Core i5     0  256     Intel  Windows           2   \n",
       "967   141.211998  Intel Core i3   500    0     Intel  Windows           2   \n",
       "662   141.211998  Intel Core i5   500    0     Intel  Windows           2   \n",
       "412   141.211998  Intel Core i3  1000    0       AMD  Windows           2   \n",
       "\n",
       "      encoded_TypeName  encoded_Cpu_brand  encoded_Gpu_brand  encoded_Company  \n",
       "158                  0                  3                  1                4  \n",
       "670                  4                  3                  1               13  \n",
       "719                  3                  3                  2                7  \n",
       "1015                 3                  2                  1               16  \n",
       "967                  3                  1                  1                7  \n",
       "662                  3                  2                  1               10  \n",
       "412                  3                  1                  0                7  "
      ]
     },
     "execution_count": 177,
     "metadata": {},
     "output_type": "execute_result"
    }
   ],
   "source": [
    "label_encoder = LabelEncoder()\n",
    "laptop_dt['encoded_Os'] = label_encoder.fit_transform(laptop_dt['Os'])\n",
    "laptop_dt['encoded_TypeName'] = label_encoder.fit_transform(laptop_dt['TypeName'])\n",
    "laptop_dt['encoded_Cpu_brand'] = label_encoder.fit_transform(laptop_dt['Cpu_brand'])\n",
    "laptop_dt['encoded_Gpu_brand'] = label_encoder.fit_transform(laptop_dt['Gpu_brand'])\n",
    "laptop_dt['encoded_Company'] = label_encoder.fit_transform(laptop_dt['Company'])\n",
    "laptop_dt.sample(7)"
   ]
  },
  {
   "cell_type": "markdown",
   "id": "b89a5c4e-335f-4724-8ba1-ec1897b249cc",
   "metadata": {},
   "source": [
    "### Now We Will Predict The Price of The Laptop With All Its Features"
   ]
  },
  {
   "cell_type": "markdown",
   "id": "796c3d44-0282-4528-9a5b-e082fb820087",
   "metadata": {},
   "source": [
    "### First let's Divide The Data in Train And Test using Holdout Method"
   ]
  },
  {
   "cell_type": "code",
   "execution_count": 178,
   "id": "4de5a1dd-5f1c-4dc9-8535-98c856dbecb4",
   "metadata": {},
   "outputs": [],
   "source": [
    "x=laptop_dt[['encoded_Company','encoded_Os','encoded_TypeName','encoded_Cpu_brand','encoded_Gpu_brand','Ram','Weight','TouchScreen','Ips','Ppi']]\n",
    "y=laptop_dt.Price"
   ]
  },
  {
   "cell_type": "code",
   "execution_count": 179,
   "id": "1d6f94ae-582b-49e3-9d81-d7e692ff5952",
   "metadata": {},
   "outputs": [],
   "source": [
    "from sklearn.model_selection import train_test_split\n",
    "x_train,x_test,y_train,y_test=train_test_split(x,y,train_size=0.6,random_state=42)"
   ]
  },
  {
   "cell_type": "code",
   "execution_count": 180,
   "id": "705a55bf-600a-4694-854c-4bbc40a24493",
   "metadata": {},
   "outputs": [
    {
     "data": {
      "text/plain": [
       "0.15522064751467501"
      ]
     },
     "execution_count": 180,
     "metadata": {},
     "output_type": "execute_result"
    }
   ],
   "source": [
    "from sklearn.linear_model import LinearRegression\n",
    "from sklearn.metrics import mean_squared_error\n",
    "model=LinearRegression()\n",
    "model.fit(x_train,y_train)\n",
    "y_pred=model.predict(x_test)\n",
    "mse = mean_squared_error(y_test, y_pred)\n",
    "mse"
   ]
  },
  {
   "cell_type": "code",
   "execution_count": 181,
   "id": "d02831c8-e906-41b8-95ca-d1b725456e3a",
   "metadata": {},
   "outputs": [
    {
     "data": {
      "text/plain": [
       "0.6018360130535301"
      ]
     },
     "execution_count": 181,
     "metadata": {},
     "output_type": "execute_result"
    }
   ],
   "source": [
    "model.score(x_train,y_train)"
   ]
  },
  {
   "cell_type": "markdown",
   "id": "9b970fdb-ed72-496d-801f-3c20dcfa1ac4",
   "metadata": {},
   "source": [
    "### Model is 63% Accurate we can Drop certain Columns to Increase it or Use Other Test_Train Split Method"
   ]
  },
  {
   "cell_type": "markdown",
   "id": "f23bf590-d606-49b2-9dd6-ea9b1663d0a5",
   "metadata": {},
   "source": [
    "## Using K_Fold Method to Train_Test_Split"
   ]
  },
  {
   "cell_type": "code",
   "execution_count": 182,
   "id": "b836190d-45d1-4373-948b-9f730fc67d6a",
   "metadata": {},
   "outputs": [
    {
     "name": "stdout",
     "output_type": "stream",
     "text": [
      "Average R-squared score: 0.5898393046688295\n"
     ]
    }
   ],
   "source": [
    "from sklearn.model_selection import KFold\n",
    "from sklearn.metrics import r2_score\n",
    "kf = KFold(n_splits=3, shuffle=True, random_state=42)\n",
    "\n",
    "r2_scores = []\n",
    "for train_index, test_index in kf.split(x):\n",
    "    x_train1, x_test1 = x.iloc[train_index], x.iloc[test_index]\n",
    "    y_train1, y_test1 = y.iloc[train_index], y.iloc[test_index]\n",
    "    \n",
    "    model1 = LinearRegression()\n",
    "    model1.fit(x_train1, y_train1)\n",
    "    y_pred1 = model1.predict(x_test1)\n",
    "    r2 = r2_score(y_test1, y_pred1)\n",
    "    r2_scores.append(r2)\n",
    "\n",
    "average_r2 = sum(r2_scores) / len(r2_scores)\n",
    "print(\"Average R-squared score:\", average_r2)"
   ]
  },
  {
   "cell_type": "code",
   "execution_count": 183,
   "id": "35f7e504-64ad-4eec-bed4-e25499d3ee46",
   "metadata": {},
   "outputs": [
    {
     "data": {
      "text/plain": [
       "0.5939273302632395"
      ]
     },
     "execution_count": 183,
     "metadata": {},
     "output_type": "execute_result"
    }
   ],
   "source": [
    "model1.score(x_train1,y_train1)"
   ]
  },
  {
   "cell_type": "markdown",
   "id": "1c5743d9-b37d-467f-bfec-7f4af4b914f8",
   "metadata": {},
   "source": [
    "#### Holdout Mehod Gave Better Accuracy Than K_Fold_Method"
   ]
  },
  {
   "cell_type": "markdown",
   "id": "4a2195b2-c3f0-4ed7-b7bb-ca94ef5f5f9f",
   "metadata": {},
   "source": [
    "### Now We can Predict The Prices of Any Laptop With Its Given Features"
   ]
  },
  {
   "cell_type": "code",
   "execution_count": 187,
   "id": "4b9336c3-2eda-4f9b-9b5c-18a599f312b4",
   "metadata": {},
   "outputs": [
    {
     "name": "stderr",
     "output_type": "stream",
     "text": [
      "C:\\Users\\Harsh\\anaconda3\\lib\\site-packages\\sklearn\\base.py:493: UserWarning: X does not have valid feature names, but LinearRegression was fitted with feature names\n",
      "  warnings.warn(\n"
     ]
    },
    {
     "data": {
      "text/plain": [
       "array([11.53504037])"
      ]
     },
     "execution_count": 187,
     "metadata": {},
     "output_type": "execute_result"
    }
   ],
   "source": [
    "#Example\n",
    "model.predict([[7,2,2,3,2,16,2.2,0,1,140.1]])\n"
   ]
  }
 ],
 "metadata": {
  "kernelspec": {
   "display_name": "Python 3 (ipykernel)",
   "language": "python",
   "name": "python3"
  },
  "language_info": {
   "codemirror_mode": {
    "name": "ipython",
    "version": 3
   },
   "file_extension": ".py",
   "mimetype": "text/x-python",
   "name": "python",
   "nbconvert_exporter": "python",
   "pygments_lexer": "ipython3",
   "version": "3.10.13"
  }
 },
 "nbformat": 4,
 "nbformat_minor": 5
}
